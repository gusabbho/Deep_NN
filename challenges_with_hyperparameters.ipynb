{
 "cells": [
  {
   "cell_type": "code",
   "execution_count": 1,
   "id": "865f56f2-9332-4c96-a473-74aeb631290f",
   "metadata": {
    "id": "865f56f2-9332-4c96-a473-74aeb631290f"
   },
   "outputs": [],
   "source": [
    "import tensorflow as tf\n",
    "from tensorflow import keras\n",
    "from sklearn.datasets import fetch_california_housing\n",
    "from sklearn.model_selection import train_test_split\n",
    "from sklearn.preprocessing import StandardScaler\n",
    "from sklearn.model_selection import GridSearchCV"
   ]
  },
  {
   "cell_type": "code",
   "execution_count": 2,
   "id": "b800f14d-c1a1-478b-898f-fb6762f0ca75",
   "metadata": {
    "id": "b800f14d-c1a1-478b-898f-fb6762f0ca75"
   },
   "outputs": [],
   "source": [
    "import matplotlib.pyplot as plt\n",
    "import numpy as np"
   ]
  },
  {
   "cell_type": "code",
   "execution_count": 3,
   "id": "fd9a1bd1-c65b-4c81-9a17-75b2cc4bc1b9",
   "metadata": {
    "colab": {
     "base_uri": "https://localhost:8080/",
     "height": 57
    },
    "id": "fd9a1bd1-c65b-4c81-9a17-75b2cc4bc1b9",
    "outputId": "e5dc2f55-d318-479a-ad77-d020dba6f674"
   },
   "outputs": [
    {
     "data": {
      "text/plain": [
       "'2.10.0'"
      ]
     },
     "execution_count": 3,
     "metadata": {},
     "output_type": "execute_result"
    }
   ],
   "source": [
    "tf.__version__"
   ]
  },
  {
   "cell_type": "markdown",
   "id": "6c987b3a-61a0-4639-9cf7-2c14b7b39649",
   "metadata": {
    "id": "6c987b3a-61a0-4639-9cf7-2c14b7b39649"
   },
   "source": [
    "# Classification"
   ]
  },
  {
   "cell_type": "code",
   "execution_count": 4,
   "id": "b1c9edfb-326c-4ebd-bab4-ad14487cc3bf",
   "metadata": {
    "id": "b1c9edfb-326c-4ebd-bab4-ad14487cc3bf"
   },
   "outputs": [],
   "source": [
    "fmnist_data = keras.datasets.fashion_mnist"
   ]
  },
  {
   "cell_type": "code",
   "execution_count": 5,
   "id": "86c3ab9f-aa8b-4a39-9cf3-29b346e398cc",
   "metadata": {
    "colab": {
     "base_uri": "https://localhost:8080/"
    },
    "id": "86c3ab9f-aa8b-4a39-9cf3-29b346e398cc",
    "outputId": "a30d9a44-c288-4278-ee60-60ae82be1594"
   },
   "outputs": [],
   "source": [
    "(x_train, y_train), (x_test, y_test) = fmnist_data.load_data()"
   ]
  },
  {
   "cell_type": "code",
   "execution_count": 6,
   "id": "b88c74a9-c846-4f5c-89a4-f32846a6bc25",
   "metadata": {
    "colab": {
     "base_uri": "https://localhost:8080/"
    },
    "id": "b88c74a9-c846-4f5c-89a4-f32846a6bc25",
    "outputId": "7f6e8301-1479-4299-9895-7e805d37a56b"
   },
   "outputs": [
    {
     "data": {
      "text/plain": [
       "(60000, 28, 28)"
      ]
     },
     "execution_count": 6,
     "metadata": {},
     "output_type": "execute_result"
    }
   ],
   "source": [
    "x_train.shape"
   ]
  },
  {
   "cell_type": "code",
   "execution_count": 7,
   "id": "ff821769-4bea-4c01-b876-61f75a939922",
   "metadata": {
    "colab": {
     "base_uri": "https://localhost:8080/"
    },
    "id": "ff821769-4bea-4c01-b876-61f75a939922",
    "outputId": "80102f66-4d5f-43c8-faab-a4e8e2f85b65"
   },
   "outputs": [
    {
     "data": {
      "text/plain": [
       "(10000, 28, 28)"
      ]
     },
     "execution_count": 7,
     "metadata": {},
     "output_type": "execute_result"
    }
   ],
   "source": [
    "x_test.shape"
   ]
  },
  {
   "cell_type": "code",
   "execution_count": 8,
   "id": "fe57a9c6-d427-4b10-b5e3-cf56d9d683c0",
   "metadata": {
    "colab": {
     "base_uri": "https://localhost:8080/"
    },
    "id": "fe57a9c6-d427-4b10-b5e3-cf56d9d683c0",
    "outputId": "703aac46-bca7-49f9-a462-4415d09bb5be"
   },
   "outputs": [
    {
     "data": {
      "text/plain": [
       "(60000,)"
      ]
     },
     "execution_count": 8,
     "metadata": {},
     "output_type": "execute_result"
    }
   ],
   "source": [
    "y_train.shape"
   ]
  },
  {
   "cell_type": "code",
   "execution_count": 9,
   "id": "db835ff6-472f-40e2-a279-0aa53c385c10",
   "metadata": {
    "colab": {
     "base_uri": "https://localhost:8080/"
    },
    "id": "db835ff6-472f-40e2-a279-0aa53c385c10",
    "outputId": "2e6b85bb-e605-42da-d4d1-36ed6875db35"
   },
   "outputs": [
    {
     "data": {
      "text/plain": [
       "array([9, 0, 0, 3, 0, 2, 7, 2, 5, 5], dtype=uint8)"
      ]
     },
     "execution_count": 9,
     "metadata": {},
     "output_type": "execute_result"
    }
   ],
   "source": [
    "y_train[:10]"
   ]
  },
  {
   "cell_type": "code",
   "execution_count": 10,
   "id": "a4dd6dd1-d4bd-4c5e-93a4-20f534ee0fcb",
   "metadata": {
    "colab": {
     "base_uri": "https://localhost:8080/",
     "height": 303
    },
    "id": "a4dd6dd1-d4bd-4c5e-93a4-20f534ee0fcb",
    "outputId": "95134b96-980e-4e2f-e13e-2687245a30ff"
   },
   "outputs": [
    {
     "data": {
      "text/plain": [
       "<matplotlib.image.AxesImage at 0xb2e7df60a0>"
      ]
     },
     "execution_count": 10,
     "metadata": {},
     "output_type": "execute_result"
    },
    {
     "data": {
      "image/png": "[encoded data removed]",
      "text/plain": [
       "<Figure size 640x480 with 1 Axes>"
      ]
     },
     "metadata": {},
     "output_type": "display_data"
    }
   ],
   "source": [
    "plt.imshow(x_train[0,], cmap=\"gray\")"
   ]
  },
  {
   "cell_type": "code",
   "execution_count": 11,
   "id": "187dc581-5c27-486c-be8c-e77925d1948b",
   "metadata": {
    "id": "187dc581-5c27-486c-be8c-e77925d1948b"
   },
   "outputs": [],
   "source": [
    "x_train, x_test = x_train/255.0, x_test/255.0"
   ]
  },
  {
   "cell_type": "code",
   "execution_count": 12,
   "id": "fc4cf3af-02e9-4e29-aede-71c3bf638b4f",
   "metadata": {
    "colab": {
     "base_uri": "https://localhost:8080/"
    },
    "id": "fc4cf3af-02e9-4e29-aede-71c3bf638b4f",
    "outputId": "77fe7e44-0535-47f6-d82a-e540df473a7b"
   },
   "outputs": [
    {
     "data": {
      "text/plain": [
       "(60000, 28, 28)"
      ]
     },
     "execution_count": 12,
     "metadata": {},
     "output_type": "execute_result"
    }
   ],
   "source": [
    "x_train.shape"
   ]
  },
  {
   "cell_type": "markdown",
   "id": "f5ac2135-d9ca-4e45-a2b8-585891173466",
   "metadata": {
    "id": "f5ac2135-d9ca-4e45-a2b8-585891173466"
   },
   "source": [
    "# Define Model "
   ]
  },
  {
   "cell_type": "code",
   "execution_count": 13,
   "id": "DbuMAcKDUChR",
   "metadata": {
    "id": "DbuMAcKDUChR"
   },
   "outputs": [],
   "source": [
    "init_1 = keras.initializers.VarianceScaling(scale=2.0, mode='fan_avg')"
   ]
  },
  {
   "cell_type": "code",
   "execution_count": 14,
   "id": "256c9c7a-c7d7-4cb4-890e-245649c0c1d2",
   "metadata": {
    "id": "256c9c7a-c7d7-4cb4-890e-245649c0c1d2"
   },
   "outputs": [],
   "source": [
    "model = keras.models.Sequential([\n",
    "    keras.layers.Flatten(input_shape=[28, 28]),\n",
    "    keras.layers.BatchNormalization(),\n",
    "    keras.layers.Dense(100, kernel_initializer=init_1, use_bias=False),\n",
    "    keras.layers.BatchNormalization(),\n",
    "    keras.layers.Activation(\"elu\"),\n",
    "    keras.layers.Dense(75, use_bias=False),\n",
    "    keras.layers.BatchNormalization(),\n",
    "    keras.layers.LeakyReLU(alpha=0.3),\n",
    "    keras.layers.Dense(10, activation=\"softmax\")\n",
    "])"
   ]
  },
  {
   "cell_type": "code",
   "execution_count": 15,
   "id": "e739c031-8f84-4c60-98b4-e9aaf6eb78e4",
   "metadata": {
    "colab": {
     "base_uri": "https://localhost:8080/"
    },
    "id": "e739c031-8f84-4c60-98b4-e9aaf6eb78e4",
    "outputId": "0efb3f1d-21cd-43a0-db79-0084da91cbf4"
   },
   "outputs": [
    {
     "name": "stdout",
     "output_type": "stream",
     "text": [
      "Model: \"sequential\"\n",
      "_________________________________________________________________\n",
      " Layer (type)                Output Shape              Param #   \n",
      "=================================================================\n",
      " flatten (Flatten)           (None, 784)               0         \n",
      "                                                                 \n",
      " batch_normalization (BatchN  (None, 784)              3136      \n",
      " ormalization)                                                   \n",
      "                                                                 \n",
      " dense (Dense)               (None, 100)               78400     \n",
      "                                                                 \n",
      " batch_normalization_1 (Batc  (None, 100)              400       \n",
      " hNormalization)                                                 \n",
      "                                                                 \n",
      " activation (Activation)     (None, 100)               0         \n",
      "                                                                 \n",
      " dense_1 (Dense)             (None, 75)                7500      \n",
      "                                                                 \n",
      " batch_normalization_2 (Batc  (None, 75)               300       \n",
      " hNormalization)                                                 \n",
      "                                                                 \n",
      " leaky_re_lu (LeakyReLU)     (None, 75)                0         \n",
      "                                                                 \n",
      " dense_2 (Dense)             (None, 10)                760       \n",
      "                                                                 \n",
      "=================================================================\n",
      "Total params: 90,496\n",
      "Trainable params: 88,578\n",
      "Non-trainable params: 1,918\n",
      "_________________________________________________________________\n"
     ]
    }
   ],
   "source": [
    "model.summary()"
   ]
  },
  {
   "cell_type": "markdown",
   "id": "f33d5157-bce2-4244-81f5-4eb77a0432f4",
   "metadata": {
    "id": "f33d5157-bce2-4244-81f5-4eb77a0432f4"
   },
   "source": [
    "# Compile Model"
   ]
  },
  {
   "cell_type": "markdown",
   "id": "mrDGEFLcMfrg",
   "metadata": {
    "id": "mrDGEFLcMfrg"
   },
   "source": [
    "## Power lr"
   ]
  },
  {
   "cell_type": "code",
   "execution_count": 16,
   "id": "nuVTHaJcOxii",
   "metadata": {
    "id": "nuVTHaJcOxii"
   },
   "outputs": [],
   "source": [
    "sgd = keras.optimizers.SGD(decay=1e-3)"
   ]
  },
  {
   "cell_type": "code",
   "execution_count": 17,
   "id": "df70f038-6509-4cfd-bb9e-e378ee3a5d9f",
   "metadata": {
    "id": "df70f038-6509-4cfd-bb9e-e378ee3a5d9f"
   },
   "outputs": [],
   "source": [
    "model.compile(loss=\"sparse_categorical_crossentropy\",\n",
    "              optimizer=sgd,\n",
    "              metrics=[\"accuracy\"])"
   ]
  },
  {
   "cell_type": "code",
   "execution_count": 18,
   "id": "2dc38a75-d238-4438-b6ae-340f2dd1d44b",
   "metadata": {
    "colab": {
     "base_uri": "https://localhost:8080/"
    },
    "id": "2dc38a75-d238-4438-b6ae-340f2dd1d44b",
    "outputId": "d369db9d-5ea5-4ae1-b968-ebacbb531488"
   },
   "outputs": [
    {
     "name": "stdout",
     "output_type": "stream",
     "text": [
      "Epoch 1/50\n",
      "1594/1594 [==============================] - 10s 4ms/step - loss: 0.7182 - accuracy: 0.7624 - val_loss: 0.5288 - val_accuracy: 0.8200\n",
      "Epoch 2/50\n",
      "1594/1594 [==============================] - 6s 4ms/step - loss: 0.5464 - accuracy: 0.8123 - val_loss: 0.4872 - val_accuracy: 0.8323\n",
      "Epoch 3/50\n",
      "1594/1594 [==============================] - 6s 4ms/step - loss: 0.5121 - accuracy: 0.8218 - val_loss: 0.4699 - val_accuracy: 0.8358\n",
      "Epoch 4/50\n",
      "1594/1594 [==============================] - 6s 4ms/step - loss: 0.4945 - accuracy: 0.8295 - val_loss: 0.4587 - val_accuracy: 0.8410\n",
      "Epoch 5/50\n",
      "1594/1594 [==============================] - 6s 4ms/step - loss: 0.4852 - accuracy: 0.8309 - val_loss: 0.4521 - val_accuracy: 0.8424\n",
      "Epoch 6/50\n",
      "1594/1594 [==============================] - 6s 4ms/step - loss: 0.4775 - accuracy: 0.8337 - val_loss: 0.4459 - val_accuracy: 0.8450\n",
      "Epoch 7/50\n",
      "1594/1594 [==============================] - 6s 4ms/step - loss: 0.4722 - accuracy: 0.8364 - val_loss: 0.4421 - val_accuracy: 0.8461\n",
      "Epoch 8/50\n",
      "1594/1594 [==============================] - 6s 4ms/step - loss: 0.4654 - accuracy: 0.8372 - val_loss: 0.4390 - val_accuracy: 0.8452\n",
      "Epoch 9/50\n",
      "1594/1594 [==============================] - 6s 4ms/step - loss: 0.4632 - accuracy: 0.8390 - val_loss: 0.4358 - val_accuracy: 0.8473\n",
      "Epoch 10/50\n",
      "1594/1594 [==============================] - 6s 4ms/step - loss: 0.4583 - accuracy: 0.8400 - val_loss: 0.4342 - val_accuracy: 0.8477\n",
      "Epoch 11/50\n",
      "1594/1594 [==============================] - 6s 4ms/step - loss: 0.4578 - accuracy: 0.8423 - val_loss: 0.4314 - val_accuracy: 0.8483\n",
      "Epoch 12/50\n",
      "1594/1594 [==============================] - 5s 3ms/step - loss: 0.4544 - accuracy: 0.8424 - val_loss: 0.4300 - val_accuracy: 0.8489\n",
      "Epoch 13/50\n",
      "1594/1594 [==============================] - 6s 4ms/step - loss: 0.4527 - accuracy: 0.8416 - val_loss: 0.4290 - val_accuracy: 0.8502\n",
      "Epoch 14/50\n",
      "1594/1594 [==============================] - 6s 3ms/step - loss: 0.4488 - accuracy: 0.8434 - val_loss: 0.4270 - val_accuracy: 0.8508\n",
      "Epoch 15/50\n",
      "1594/1594 [==============================] - 5s 3ms/step - loss: 0.4498 - accuracy: 0.8431 - val_loss: 0.4257 - val_accuracy: 0.8500\n",
      "Epoch 16/50\n",
      "1594/1594 [==============================] - 6s 4ms/step - loss: 0.4468 - accuracy: 0.8455 - val_loss: 0.4245 - val_accuracy: 0.8516\n",
      "Epoch 17/50\n",
      "1594/1594 [==============================] - 6s 3ms/step - loss: 0.4462 - accuracy: 0.8444 - val_loss: 0.4239 - val_accuracy: 0.8506\n",
      "Epoch 18/50\n",
      "1594/1594 [==============================] - 6s 3ms/step - loss: 0.4439 - accuracy: 0.8458 - val_loss: 0.4231 - val_accuracy: 0.8509\n",
      "Epoch 19/50\n",
      "1594/1594 [==============================] - 6s 3ms/step - loss: 0.4408 - accuracy: 0.8483 - val_loss: 0.4219 - val_accuracy: 0.8512\n",
      "Epoch 20/50\n",
      "1594/1594 [==============================] - 6s 4ms/step - loss: 0.4429 - accuracy: 0.8451 - val_loss: 0.4203 - val_accuracy: 0.8524\n",
      "Epoch 21/50\n",
      "1594/1594 [==============================] - 6s 4ms/step - loss: 0.4412 - accuracy: 0.8448 - val_loss: 0.4202 - val_accuracy: 0.8507\n",
      "Epoch 22/50\n",
      "1594/1594 [==============================] - 6s 4ms/step - loss: 0.4405 - accuracy: 0.8464 - val_loss: 0.4182 - val_accuracy: 0.8520\n",
      "Epoch 23/50\n",
      "1594/1594 [==============================] - 6s 4ms/step - loss: 0.4364 - accuracy: 0.8474 - val_loss: 0.4184 - val_accuracy: 0.8523\n",
      "Epoch 24/50\n",
      "1594/1594 [==============================] - 6s 3ms/step - loss: 0.4385 - accuracy: 0.8474 - val_loss: 0.4169 - val_accuracy: 0.8526\n",
      "Epoch 25/50\n",
      "1594/1594 [==============================] - 6s 4ms/step - loss: 0.4377 - accuracy: 0.8482 - val_loss: 0.4171 - val_accuracy: 0.8528\n",
      "Epoch 26/50\n",
      "1594/1594 [==============================] - 6s 4ms/step - loss: 0.4342 - accuracy: 0.8486 - val_loss: 0.4162 - val_accuracy: 0.8531\n",
      "Epoch 27/50\n",
      "1594/1594 [==============================] - 6s 4ms/step - loss: 0.4351 - accuracy: 0.8487 - val_loss: 0.4160 - val_accuracy: 0.8532\n",
      "Epoch 28/50\n",
      "1594/1594 [==============================] - 6s 4ms/step - loss: 0.4323 - accuracy: 0.8483 - val_loss: 0.4152 - val_accuracy: 0.8542\n",
      "Epoch 29/50\n",
      "1594/1594 [==============================] - 6s 4ms/step - loss: 0.4315 - accuracy: 0.8482 - val_loss: 0.4148 - val_accuracy: 0.8539\n",
      "Epoch 30/50\n",
      "1594/1594 [==============================] - 6s 4ms/step - loss: 0.4335 - accuracy: 0.8493 - val_loss: 0.4144 - val_accuracy: 0.8543\n",
      "Epoch 31/50\n",
      "1594/1594 [==============================] - 6s 4ms/step - loss: 0.4327 - accuracy: 0.8481 - val_loss: 0.4138 - val_accuracy: 0.8536\n",
      "Epoch 32/50\n",
      "1594/1594 [==============================] - 6s 4ms/step - loss: 0.4310 - accuracy: 0.8500 - val_loss: 0.4131 - val_accuracy: 0.8549\n",
      "Epoch 33/50\n",
      "1594/1594 [==============================] - 6s 4ms/step - loss: 0.4306 - accuracy: 0.8492 - val_loss: 0.4130 - val_accuracy: 0.8539\n",
      "Epoch 34/50\n",
      "1594/1594 [==============================] - 6s 4ms/step - loss: 0.4285 - accuracy: 0.8509 - val_loss: 0.4124 - val_accuracy: 0.8543\n",
      "Epoch 35/50\n",
      "1594/1594 [==============================] - 6s 4ms/step - loss: 0.4275 - accuracy: 0.8502 - val_loss: 0.4114 - val_accuracy: 0.8549\n",
      "Epoch 36/50\n",
      "1594/1594 [==============================] - 6s 4ms/step - loss: 0.4283 - accuracy: 0.8506 - val_loss: 0.4118 - val_accuracy: 0.8543\n",
      "Epoch 37/50\n",
      "1594/1594 [==============================] - 6s 4ms/step - loss: 0.4296 - accuracy: 0.8495 - val_loss: 0.4108 - val_accuracy: 0.8556\n",
      "Epoch 38/50\n",
      "1594/1594 [==============================] - 6s 4ms/step - loss: 0.4278 - accuracy: 0.8498 - val_loss: 0.4105 - val_accuracy: 0.8548\n",
      "Epoch 39/50\n",
      "1594/1594 [==============================] - 5s 3ms/step - loss: 0.4282 - accuracy: 0.8499 - val_loss: 0.4106 - val_accuracy: 0.8549\n",
      "Epoch 40/50\n",
      "1594/1594 [==============================] - 6s 4ms/step - loss: 0.4256 - accuracy: 0.8508 - val_loss: 0.4104 - val_accuracy: 0.8550\n",
      "Epoch 41/50\n",
      "1594/1594 [==============================] - 7s 4ms/step - loss: 0.4264 - accuracy: 0.8510 - val_loss: 0.4099 - val_accuracy: 0.8550\n",
      "Epoch 42/50\n",
      "1594/1594 [==============================] - 7s 4ms/step - loss: 0.4264 - accuracy: 0.8505 - val_loss: 0.4096 - val_accuracy: 0.8566\n",
      "Epoch 43/50\n",
      "1594/1594 [==============================] - 7s 4ms/step - loss: 0.4250 - accuracy: 0.8502 - val_loss: 0.4092 - val_accuracy: 0.8548\n",
      "Epoch 44/50\n",
      "1594/1594 [==============================] - 7s 5ms/step - loss: 0.4237 - accuracy: 0.8527 - val_loss: 0.4091 - val_accuracy: 0.8557\n",
      "Epoch 45/50\n",
      "1594/1594 [==============================] - 8s 5ms/step - loss: 0.4240 - accuracy: 0.8515 - val_loss: 0.4079 - val_accuracy: 0.8558\n",
      "Epoch 46/50\n",
      "1594/1594 [==============================] - 7s 5ms/step - loss: 0.4228 - accuracy: 0.8522 - val_loss: 0.4088 - val_accuracy: 0.8558\n",
      "Epoch 47/50\n",
      "1594/1594 [==============================] - 7s 4ms/step - loss: 0.4229 - accuracy: 0.8515 - val_loss: 0.4082 - val_accuracy: 0.8560\n",
      "Epoch 48/50\n",
      "1594/1594 [==============================] - 6s 4ms/step - loss: 0.4230 - accuracy: 0.8520 - val_loss: 0.4077 - val_accuracy: 0.8564\n",
      "Epoch 49/50\n",
      "1594/1594 [==============================] - 6s 4ms/step - loss: 0.4215 - accuracy: 0.8519 - val_loss: 0.4071 - val_accuracy: 0.8561\n",
      "Epoch 50/50\n",
      "1594/1594 [==============================] - 6s 4ms/step - loss: 0.4235 - accuracy: 0.8514 - val_loss: 0.4072 - val_accuracy: 0.8568\n"
     ]
    }
   ],
   "source": [
    "history_power = model.fit(x_train, y_train, epochs=50, validation_split=0.15)"
   ]
  },
  {
   "cell_type": "code",
   "execution_count": 19,
   "id": "714a041c",
   "metadata": {},
   "outputs": [
    {
     "data": {
      "text/plain": [
       "<keras.callbacks.History at 0xee20829f10>"
      ]
     },
     "execution_count": 19,
     "metadata": {},
     "output_type": "execute_result"
    }
   ],
   "source": [
    "history_power"
   ]
  },
  {
   "cell_type": "code",
   "execution_count": 20,
   "id": "f1e42d2e",
   "metadata": {},
   "outputs": [
    {
     "data": {
      "text/plain": [
       "{'loss': [0.7133520245552063,\n",
       "  0.5450562834739685,\n",
       "  0.5143792033195496,\n",
       "  0.49809911847114563,\n",
       "  0.49178847670555115,\n",
       "  0.4806087911128998,\n",
       "  0.4759938716888428,\n",
       "  0.47105976939201355,\n",
       "  0.46954476833343506,\n",
       "  0.4658592641353607,\n",
       "  0.4634222984313965,\n",
       "  0.4628917872905731,\n",
       "  0.45826971530914307,\n",
       "  0.4557856023311615,\n",
       "  0.4531953036785126,\n",
       "  0.45392635464668274,\n",
       "  0.45131751894950867,\n",
       "  0.4507002830505371,\n",
       "  0.44890737533569336,\n",
       "  0.44890886545181274,\n",
       "  0.44505569338798523,\n",
       "  0.4449058771133423,\n",
       "  0.44543150067329407,\n",
       "  0.4450777471065521,\n",
       "  0.4420238137245178,\n",
       "  0.44288909435272217,\n",
       "  0.4415382444858551,\n",
       "  0.44102057814598083,\n",
       "  0.43976739048957825,\n",
       "  0.43880459666252136,\n",
       "  0.4363493323326111,\n",
       "  0.43927237391471863,\n",
       "  0.4375571310520172,\n",
       "  0.43777045607566833,\n",
       "  0.43499574065208435,\n",
       "  0.43481019139289856,\n",
       "  0.4340932071208954,\n",
       "  0.4366469085216522,\n",
       "  0.43341678380966187,\n",
       "  0.43468067049980164,\n",
       "  0.4324209988117218,\n",
       "  0.43106913566589355,\n",
       "  0.4320356845855713,\n",
       "  0.43189486861228943,\n",
       "  0.43175143003463745,\n",
       "  0.4312814772129059,\n",
       "  0.42978596687316895,\n",
       "  0.43007901310920715,\n",
       "  0.42896488308906555,\n",
       "  0.430470734834671],\n",
       " 'accuracy': [0.7634902000427246,\n",
       "  0.8134509921073914,\n",
       "  0.8206274509429932,\n",
       "  0.8270392417907715,\n",
       "  0.8299411535263062,\n",
       "  0.8333333134651184,\n",
       "  0.832588255405426,\n",
       "  0.8347254991531372,\n",
       "  0.8367254734039307,\n",
       "  0.8375882506370544,\n",
       "  0.8372352719306946,\n",
       "  0.838372528553009,\n",
       "  0.8402156829833984,\n",
       "  0.8409019708633423,\n",
       "  0.842431366443634,\n",
       "  0.8398431539535522,\n",
       "  0.8423333168029785,\n",
       "  0.8421764969825745,\n",
       "  0.8430784344673157,\n",
       "  0.8428627252578735,\n",
       "  0.8444509506225586,\n",
       "  0.8455686569213867,\n",
       "  0.8447843194007874,\n",
       "  0.8447843194007874,\n",
       "  0.8452156782150269,\n",
       "  0.846294105052948,\n",
       "  0.8464313745498657,\n",
       "  0.8451372385025024,\n",
       "  0.846490204334259,\n",
       "  0.8459215760231018,\n",
       "  0.8472353219985962,\n",
       "  0.8452548980712891,\n",
       "  0.8461372256278992,\n",
       "  0.8473725318908691,\n",
       "  0.847019612789154,\n",
       "  0.8472157120704651,\n",
       "  0.8473725318908691,\n",
       "  0.8472157120704651,\n",
       "  0.848254919052124,\n",
       "  0.8477647304534912,\n",
       "  0.8493725657463074,\n",
       "  0.8488627672195435,\n",
       "  0.8484313488006592,\n",
       "  0.8480784296989441,\n",
       "  0.8489215970039368,\n",
       "  0.8491568565368652,\n",
       "  0.850156843662262,\n",
       "  0.8497254848480225,\n",
       "  0.8497843146324158,\n",
       "  0.8485097885131836],\n",
       " 'val_loss': [0.5282487869262695,\n",
       "  0.48889267444610596,\n",
       "  0.47197628021240234,\n",
       "  0.46087419986724854,\n",
       "  0.4548058807849884,\n",
       "  0.45010435581207275,\n",
       "  0.4459432065486908,\n",
       "  0.4418012499809265,\n",
       "  0.4398897588253021,\n",
       "  0.4375521242618561,\n",
       "  0.4352627098560333,\n",
       "  0.4326566159725189,\n",
       "  0.4316856861114502,\n",
       "  0.42977285385131836,\n",
       "  0.4290159046649933,\n",
       "  0.42829787731170654,\n",
       "  0.4266672432422638,\n",
       "  0.4257235527038574,\n",
       "  0.4246264100074768,\n",
       "  0.42420756816864014,\n",
       "  0.422899454832077,\n",
       "  0.4225756824016571,\n",
       "  0.42198488116264343,\n",
       "  0.4215802550315857,\n",
       "  0.42093321681022644,\n",
       "  0.41991540789604187,\n",
       "  0.41863763332366943,\n",
       "  0.417959988117218,\n",
       "  0.4184807240962982,\n",
       "  0.417809396982193,\n",
       "  0.4169793725013733,\n",
       "  0.4170750677585602,\n",
       "  0.41606417298316956,\n",
       "  0.4161941707134247,\n",
       "  0.4152386784553528,\n",
       "  0.414992094039917,\n",
       "  0.4144953489303589,\n",
       "  0.41469860076904297,\n",
       "  0.41392195224761963,\n",
       "  0.41371747851371765,\n",
       "  0.4129132330417633,\n",
       "  0.41268596053123474,\n",
       "  0.41290047764778137,\n",
       "  0.4122941792011261,\n",
       "  0.41139233112335205,\n",
       "  0.41143834590911865,\n",
       "  0.4111277461051941,\n",
       "  0.41092649102211,\n",
       "  0.41057097911834717,\n",
       "  0.4097634553909302],\n",
       " 'val_accuracy': [0.8122222423553467,\n",
       "  0.8270000219345093,\n",
       "  0.8327777981758118,\n",
       "  0.8345555663108826,\n",
       "  0.8373333215713501,\n",
       "  0.8373333215713501,\n",
       "  0.8397777676582336,\n",
       "  0.8412222266197205,\n",
       "  0.8408889174461365,\n",
       "  0.8441110849380493,\n",
       "  0.8446666598320007,\n",
       "  0.8454444408416748,\n",
       "  0.8463333249092102,\n",
       "  0.8476666808128357,\n",
       "  0.8471111059188843,\n",
       "  0.8483333587646484,\n",
       "  0.8487777709960938,\n",
       "  0.8492222428321838,\n",
       "  0.8498888611793518,\n",
       "  0.8504444360733032,\n",
       "  0.8504444360733032,\n",
       "  0.8505555391311646,\n",
       "  0.8512222170829773,\n",
       "  0.8503333330154419,\n",
       "  0.8519999980926514,\n",
       "  0.852222204208374,\n",
       "  0.8515555262565613,\n",
       "  0.8514444231987,\n",
       "  0.85188889503479,\n",
       "  0.8517777919769287,\n",
       "  0.85188889503479,\n",
       "  0.8528888821601868,\n",
       "  0.8532222509384155,\n",
       "  0.852222204208374,\n",
       "  0.8538888692855835,\n",
       "  0.8532222509384155,\n",
       "  0.8535555601119995,\n",
       "  0.8535555601119995,\n",
       "  0.8531110882759094,\n",
       "  0.8545555472373962,\n",
       "  0.8538888692855835,\n",
       "  0.8541111350059509,\n",
       "  0.8536666631698608,\n",
       "  0.8535555601119995,\n",
       "  0.8546666502952576,\n",
       "  0.8539999723434448,\n",
       "  0.8537777662277222,\n",
       "  0.8546666502952576,\n",
       "  0.8539999723434448,\n",
       "  0.8558889031410217]}"
      ]
     },
     "execution_count": 20,
     "metadata": {},
     "output_type": "execute_result"
    }
   ],
   "source": [
    "history_power.history"
   ]
  },
  {
   "cell_type": "code",
   "execution_count": 21,
   "id": "f9a17c1a",
   "metadata": {},
   "outputs": [
    {
     "data": {
      "text/plain": [
       "dict_keys(['loss', 'accuracy', 'val_loss', 'val_accuracy'])"
      ]
     },
     "execution_count": 21,
     "metadata": {},
     "output_type": "execute_result"
    }
   ],
   "source": [
    "history_power.history.keys()"
   ]
  },
  {
   "cell_type": "code",
   "execution_count": 22,
   "id": "171f2d8b-b5d9-43da-909f-6c43e8e362d6",
   "metadata": {
    "colab": {
     "base_uri": "https://localhost:8080/",
     "height": 358
    },
    "id": "171f2d8b-b5d9-43da-909f-6c43e8e362d6",
    "jp-MarkdownHeadingCollapsed": true,
    "outputId": "f1c8c5e3-4891-4769-9f6f-7c90ba5e88d9",
    "tags": []
   },
   "outputs": [
    {
     "data": {
      "text/plain": [
       "<matplotlib.legend.Legend at 0xee208e4490>"
      ]
     },
     "execution_count": 22,
     "metadata": {},
     "output_type": "execute_result"
    },
    {
     "data": {
      "image/png": "[encoded data removed]",
      "text/plain": [
       "<Figure size 1200x500 with 1 Axes>"
      ]
     },
     "metadata": {},
     "output_type": "display_data"
    }
   ],
   "source": [
    "fig, ax = plt.subplots(figsize=(12, 5))\n",
    "ax.plot(history_power.history[\"loss\"], label=\"train loss\")\n",
    "ax.plot(history_power.history[\"accuracy\"], label=\"train accuracy\")\n",
    "ax.plot(history_power.history[\"val_loss\"], label=\"validation loss\")\n",
    "ax.plot(history_power.history[\"val_accuracy\"], label=\"validation accuracy\")\n",
    "ax.legend()"
   ]
  },
  {
   "cell_type": "markdown",
   "id": "-8C1TJpEMnbq",
   "metadata": {
    "id": "-8C1TJpEMnbq"
   },
   "source": [
    "## Exp lr"
   ]
  },
  {
   "cell_type": "code",
   "execution_count": 23,
   "id": "ZXAqHeVKMyCi",
   "metadata": {
    "id": "ZXAqHeVKMyCi"
   },
   "outputs": [],
   "source": [
    "def exp_lr_func(eta0, s):\n",
    "  def exp_lr(epoch):\n",
    "    return eta0*0.1**(epoch/s)\n",
    "  return exp_lr\n",
    "exp_lr_s = exp_lr_func(0.01, 10)  "
   ]
  },
  {
   "cell_type": "code",
   "execution_count": 24,
   "id": "54hfLAG5NiQS",
   "metadata": {
    "id": "54hfLAG5NiQS"
   },
   "outputs": [],
   "source": [
    "exp_lr_c = keras.callbacks.LearningRateScheduler(exp_lr_s)"
   ]
  },
  {
   "cell_type": "code",
   "execution_count": 25,
   "id": "N0oRWbEwVDR0",
   "metadata": {
    "id": "N0oRWbEwVDR0"
   },
   "outputs": [
    {
     "name": "stderr",
     "output_type": "stream",
     "text": [
      "C:\\Users\\AbbasiLio\\anaconda3\\envs\\hossein\\lib\\site-packages\\keras\\initializers\\initializers_v2.py:120: UserWarning: The initializer VarianceScaling is unseeded and being called multiple times, which will return identical values  each time (even if the initializer is unseeded). Please update your code to provide a seed to the initializer, or avoid using the same initalizer instance more than once.\n",
      "  warnings.warn(\n"
     ]
    }
   ],
   "source": [
    "model = keras.models.Sequential([\n",
    "    keras.layers.Flatten(input_shape=[28, 28]),\n",
    "    keras.layers.BatchNormalization(),\n",
    "    keras.layers.Dense(100, kernel_initializer=init_1, use_bias=False),\n",
    "    keras.layers.BatchNormalization(),\n",
    "    keras.layers.Activation(\"elu\"),\n",
    "    keras.layers.Dense(75, use_bias=False),\n",
    "    keras.layers.BatchNormalization(),\n",
    "    keras.layers.LeakyReLU(alpha=0.3),\n",
    "    keras.layers.Dense(10, activation=\"softmax\")\n",
    "])"
   ]
  },
  {
   "cell_type": "code",
   "execution_count": 27,
   "id": "5RP7gcBiMmcU",
   "metadata": {
    "id": "5RP7gcBiMmcU"
   },
   "outputs": [],
   "source": [
    "model.compile(loss=\"sparse_categorical_crossentropy\",\n",
    "              optimizer=\"sgd\",\n",
    "              metrics=[\"accuracy\"])"
   ]
  },
  {
   "cell_type": "code",
   "execution_count": 28,
   "id": "T2uV5-dEMxKw",
   "metadata": {
    "colab": {
     "base_uri": "https://localhost:8080/"
    },
    "id": "T2uV5-dEMxKw",
    "outputId": "2682d83f-744d-48ba-d10d-56be8d05483f"
   },
   "outputs": [
    {
     "name": "stdout",
     "output_type": "stream",
     "text": [
      "Epoch 1/50\n",
      "1594/1594 [==============================] - 7s 4ms/step - loss: 0.6785 - accuracy: 0.7742 - val_loss: 0.4832 - val_accuracy: 0.8281 - lr: 0.0100\n",
      "Epoch 2/50\n",
      "1594/1594 [==============================] - 6s 3ms/step - loss: 0.4906 - accuracy: 0.8298 - val_loss: 0.4402 - val_accuracy: 0.8443 - lr: 0.0079\n",
      "Epoch 3/50\n",
      "1594/1594 [==============================] - 6s 4ms/step - loss: 0.4547 - accuracy: 0.8421 - val_loss: 0.4212 - val_accuracy: 0.8489 - lr: 0.0063\n",
      "Epoch 4/50\n",
      "1594/1594 [==============================] - 7s 4ms/step - loss: 0.4367 - accuracy: 0.8460 - val_loss: 0.4096 - val_accuracy: 0.8523 - lr: 0.0050\n",
      "Epoch 5/50\n",
      "1594/1594 [==============================] - 5s 3ms/step - loss: 0.4239 - accuracy: 0.8518 - val_loss: 0.4039 - val_accuracy: 0.8533 - lr: 0.0040\n",
      "Epoch 6/50\n",
      "1594/1594 [==============================] - 5s 3ms/step - loss: 0.4139 - accuracy: 0.8533 - val_loss: 0.3974 - val_accuracy: 0.8570 - lr: 0.0032\n",
      "Epoch 7/50\n",
      "1594/1594 [==============================] - 5s 3ms/step - loss: 0.4088 - accuracy: 0.8563 - val_loss: 0.3937 - val_accuracy: 0.8584 - lr: 0.0025\n",
      "Epoch 8/50\n",
      "1594/1594 [==============================] - 6s 4ms/step - loss: 0.4039 - accuracy: 0.8582 - val_loss: 0.3911 - val_accuracy: 0.8589 - lr: 0.0020\n",
      "Epoch 9/50\n",
      "1594/1594 [==============================] - 6s 4ms/step - loss: 0.3968 - accuracy: 0.8598 - val_loss: 0.3886 - val_accuracy: 0.8566 - lr: 0.0016\n",
      "Epoch 10/50\n",
      "1594/1594 [==============================] - 6s 4ms/step - loss: 0.3968 - accuracy: 0.8588 - val_loss: 0.3881 - val_accuracy: 0.8588 - lr: 0.0013\n",
      "Epoch 11/50\n",
      "1594/1594 [==============================] - 6s 4ms/step - loss: 0.3940 - accuracy: 0.8595 - val_loss: 0.3864 - val_accuracy: 0.8584 - lr: 0.0010\n",
      "Epoch 12/50\n",
      "1594/1594 [==============================] - 6s 4ms/step - loss: 0.3910 - accuracy: 0.8630 - val_loss: 0.3862 - val_accuracy: 0.8616 - lr: 7.9433e-04\n",
      "Epoch 13/50\n",
      "1594/1594 [==============================] - 7s 4ms/step - loss: 0.3915 - accuracy: 0.8606 - val_loss: 0.3851 - val_accuracy: 0.8581 - lr: 6.3096e-04\n",
      "Epoch 14/50\n",
      "1594/1594 [==============================] - 7s 4ms/step - loss: 0.3894 - accuracy: 0.8629 - val_loss: 0.3840 - val_accuracy: 0.8600 - lr: 5.0119e-04\n",
      "Epoch 15/50\n",
      "1594/1594 [==============================] - 7s 4ms/step - loss: 0.3887 - accuracy: 0.8615 - val_loss: 0.3841 - val_accuracy: 0.8616 - lr: 3.9811e-04\n",
      "Epoch 16/50\n",
      "1594/1594 [==============================] - 6s 4ms/step - loss: 0.3892 - accuracy: 0.8641 - val_loss: 0.3831 - val_accuracy: 0.8619 - lr: 3.1623e-04\n",
      "Epoch 17/50\n",
      "1594/1594 [==============================] - 6s 4ms/step - loss: 0.3856 - accuracy: 0.8629 - val_loss: 0.3828 - val_accuracy: 0.8618 - lr: 2.5119e-04\n",
      "Epoch 18/50\n",
      "1594/1594 [==============================] - 6s 4ms/step - loss: 0.3895 - accuracy: 0.8617 - val_loss: 0.3820 - val_accuracy: 0.8613 - lr: 1.9953e-04\n",
      "Epoch 19/50\n",
      "1594/1594 [==============================] - 6s 4ms/step - loss: 0.3868 - accuracy: 0.8626 - val_loss: 0.3826 - val_accuracy: 0.8609 - lr: 1.5849e-04\n",
      "Epoch 20/50\n",
      "1594/1594 [==============================] - 6s 4ms/step - loss: 0.3860 - accuracy: 0.8642 - val_loss: 0.3821 - val_accuracy: 0.8620 - lr: 1.2589e-04\n",
      "Epoch 21/50\n",
      "1594/1594 [==============================] - 6s 4ms/step - loss: 0.3879 - accuracy: 0.8636 - val_loss: 0.3823 - val_accuracy: 0.8622 - lr: 1.0000e-04\n",
      "Epoch 22/50\n",
      "1594/1594 [==============================] - 6s 4ms/step - loss: 0.3845 - accuracy: 0.8645 - val_loss: 0.3822 - val_accuracy: 0.8616 - lr: 7.9433e-05\n",
      "Epoch 23/50\n",
      "1594/1594 [==============================] - 6s 4ms/step - loss: 0.3847 - accuracy: 0.8647 - val_loss: 0.3825 - val_accuracy: 0.8613 - lr: 6.3096e-05\n",
      "Epoch 24/50\n",
      "1594/1594 [==============================] - 6s 3ms/step - loss: 0.3860 - accuracy: 0.8639 - val_loss: 0.3818 - val_accuracy: 0.8626 - lr: 5.0119e-05\n",
      "Epoch 25/50\n",
      "1594/1594 [==============================] - 5s 3ms/step - loss: 0.3864 - accuracy: 0.8630 - val_loss: 0.3820 - val_accuracy: 0.8608 - lr: 3.9811e-05\n",
      "Epoch 26/50\n",
      "1594/1594 [==============================] - 7s 4ms/step - loss: 0.3868 - accuracy: 0.8638 - val_loss: 0.3820 - val_accuracy: 0.8633 - lr: 3.1623e-05\n",
      "Epoch 27/50\n",
      "1594/1594 [==============================] - 6s 4ms/step - loss: 0.3866 - accuracy: 0.8637 - val_loss: 0.3824 - val_accuracy: 0.8622 - lr: 2.5119e-05\n",
      "Epoch 28/50\n",
      "1594/1594 [==============================] - 6s 4ms/step - loss: 0.3835 - accuracy: 0.8650 - val_loss: 0.3821 - val_accuracy: 0.8619 - lr: 1.9953e-05\n",
      "Epoch 29/50\n",
      "1594/1594 [==============================] - 5s 3ms/step - loss: 0.3860 - accuracy: 0.8634 - val_loss: 0.3825 - val_accuracy: 0.8618 - lr: 1.5849e-05\n",
      "Epoch 30/50\n",
      "1594/1594 [==============================] - 6s 4ms/step - loss: 0.3841 - accuracy: 0.8642 - val_loss: 0.3818 - val_accuracy: 0.8624 - lr: 1.2589e-05\n",
      "Epoch 31/50\n",
      "1594/1594 [==============================] - 6s 4ms/step - loss: 0.3849 - accuracy: 0.8655 - val_loss: 0.3823 - val_accuracy: 0.8607 - lr: 1.0000e-05\n",
      "Epoch 32/50\n",
      "1594/1594 [==============================] - 6s 4ms/step - loss: 0.3856 - accuracy: 0.8647 - val_loss: 0.3820 - val_accuracy: 0.8634 - lr: 7.9433e-06\n",
      "Epoch 33/50\n",
      "1594/1594 [==============================] - 6s 4ms/step - loss: 0.3846 - accuracy: 0.8649 - val_loss: 0.3822 - val_accuracy: 0.8612 - lr: 6.3096e-06\n",
      "Epoch 34/50\n",
      "1594/1594 [==============================] - 6s 4ms/step - loss: 0.3850 - accuracy: 0.8643 - val_loss: 0.3820 - val_accuracy: 0.8626 - lr: 5.0119e-06\n",
      "Epoch 35/50\n",
      "1594/1594 [==============================] - 6s 4ms/step - loss: 0.3882 - accuracy: 0.8613 - val_loss: 0.3814 - val_accuracy: 0.8618 - lr: 3.9811e-06\n",
      "Epoch 36/50\n",
      "1594/1594 [==============================] - 7s 4ms/step - loss: 0.3852 - accuracy: 0.8642 - val_loss: 0.3823 - val_accuracy: 0.8628 - lr: 3.1623e-06\n",
      "Epoch 37/50\n",
      "1594/1594 [==============================] - 7s 4ms/step - loss: 0.3872 - accuracy: 0.8622 - val_loss: 0.3819 - val_accuracy: 0.8621 - lr: 2.5119e-06\n",
      "Epoch 38/50\n",
      "1594/1594 [==============================] - 6s 4ms/step - loss: 0.3851 - accuracy: 0.8635 - val_loss: 0.3815 - val_accuracy: 0.8623 - lr: 1.9953e-06\n",
      "Epoch 39/50\n",
      "1594/1594 [==============================] - 6s 4ms/step - loss: 0.3852 - accuracy: 0.8635 - val_loss: 0.3820 - val_accuracy: 0.8622 - lr: 1.5849e-06\n",
      "Epoch 40/50\n",
      "1594/1594 [==============================] - 6s 4ms/step - loss: 0.3851 - accuracy: 0.8630 - val_loss: 0.3821 - val_accuracy: 0.8627 - lr: 1.2589e-06\n",
      "Epoch 41/50\n",
      "1594/1594 [==============================] - 6s 4ms/step - loss: 0.3856 - accuracy: 0.8655 - val_loss: 0.3817 - val_accuracy: 0.8622 - lr: 1.0000e-06\n",
      "Epoch 42/50\n",
      "1594/1594 [==============================] - 6s 4ms/step - loss: 0.3852 - accuracy: 0.8635 - val_loss: 0.3826 - val_accuracy: 0.8620 - lr: 7.9433e-07\n",
      "Epoch 43/50\n",
      "1594/1594 [==============================] - 6s 4ms/step - loss: 0.3860 - accuracy: 0.8634 - val_loss: 0.3822 - val_accuracy: 0.8619 - lr: 6.3096e-07\n",
      "Epoch 44/50\n",
      "1594/1594 [==============================] - 6s 4ms/step - loss: 0.3851 - accuracy: 0.8651 - val_loss: 0.3825 - val_accuracy: 0.8619 - lr: 5.0119e-07\n",
      "Epoch 45/50\n",
      "1594/1594 [==============================] - 6s 4ms/step - loss: 0.3861 - accuracy: 0.8635 - val_loss: 0.3820 - val_accuracy: 0.8608 - lr: 3.9811e-07\n",
      "Epoch 46/50\n",
      "1594/1594 [==============================] - 6s 4ms/step - loss: 0.3861 - accuracy: 0.8633 - val_loss: 0.3818 - val_accuracy: 0.8612 - lr: 3.1623e-07\n",
      "Epoch 47/50\n",
      "1594/1594 [==============================] - 6s 4ms/step - loss: 0.3854 - accuracy: 0.8631 - val_loss: 0.3819 - val_accuracy: 0.8626 - lr: 2.5119e-07\n",
      "Epoch 48/50\n",
      "1594/1594 [==============================] - 6s 4ms/step - loss: 0.3851 - accuracy: 0.8646 - val_loss: 0.3818 - val_accuracy: 0.8614 - lr: 1.9953e-07\n",
      "Epoch 49/50\n",
      "1594/1594 [==============================] - 7s 4ms/step - loss: 0.3870 - accuracy: 0.8635 - val_loss: 0.3822 - val_accuracy: 0.8618 - lr: 1.5849e-07\n",
      "Epoch 50/50\n",
      "1594/1594 [==============================] - 7s 4ms/step - loss: 0.3834 - accuracy: 0.8653 - val_loss: 0.3820 - val_accuracy: 0.8627 - lr: 1.2589e-07\n"
     ]
    }
   ],
   "source": [
    "history_exp = model.fit(x_train, y_train, epochs=50,\n",
    "                    validation_split=0.15,\n",
    "                    callbacks=[exp_lr_c])"
   ]
  },
  {
   "cell_type": "code",
   "execution_count": 29,
   "id": "vo_s71jliPFk",
   "metadata": {
    "colab": {
     "base_uri": "https://localhost:8080/",
     "height": 358
    },
    "id": "vo_s71jliPFk",
    "outputId": "e97db8a1-92c1-4756-b120-1e7f79e2959e"
   },
   "outputs": [
    {
     "data": {
      "text/plain": [
       "<matplotlib.legend.Legend at 0xee22aed5b0>"
      ]
     },
     "execution_count": 29,
     "metadata": {},
     "output_type": "execute_result"
    },
    {
     "data": {
      "image/png": "[encoded data removed]",
      "text/plain": [
       "<Figure size 1200x500 with 1 Axes>"
      ]
     },
     "metadata": {},
     "output_type": "display_data"
    }
   ],
   "source": [
    "fig, ax = plt.subplots(figsize=(12, 5))\n",
    "ax.plot(history_exp.history[\"loss\"], label=\"train loss\")\n",
    "ax.plot(history_exp.history[\"accuracy\"], label=\"train accuracy\")\n",
    "ax.plot(history_exp.history[\"val_loss\"], label=\"validation loss\")\n",
    "ax.plot(history_exp.history[\"val_accuracy\"], label=\"validation accuracy\")\n",
    "ax.legend()"
   ]
  },
  {
   "cell_type": "code",
   "execution_count": 30,
   "id": "pj2ImtBHir5U",
   "metadata": {
    "colab": {
     "base_uri": "https://localhost:8080/",
     "height": 303
    },
    "id": "pj2ImtBHir5U",
    "outputId": "f0f81306-6387-4904-ee6a-a17682626130"
   },
   "outputs": [
    {
     "data": {
      "text/plain": [
       "[<matplotlib.lines.Line2D at 0xee20e050d0>]"
      ]
     },
     "execution_count": 30,
     "metadata": {},
     "output_type": "execute_result"
    },
    {
     "data": {
      "image/png": "[encoded data removed]",
      "text/plain": [
       "<Figure size 640x480 with 1 Axes>"
      ]
     },
     "metadata": {},
     "output_type": "display_data"
    }
   ],
   "source": [
    "plt.plot(history_exp.epoch, history_exp.history[\"lr\"])"
   ]
  },
  {
   "cell_type": "markdown",
   "id": "sWUyal5Ki8ot",
   "metadata": {
    "id": "sWUyal5Ki8ot"
   },
   "source": [
    "## Piecewise lr"
   ]
  },
  {
   "cell_type": "code",
   "execution_count": 31,
   "id": "abTbbqUNi8LX",
   "metadata": {
    "id": "abTbbqUNi8LX"
   },
   "outputs": [],
   "source": [
    "def pw_lr(epoch):\n",
    "  if epoch < 10:\n",
    "    return 0.01\n",
    "  elif epoch < 20:\n",
    "    return 0.005\n",
    "  elif epoch < 40:\n",
    "    return 0.001\n",
    "  else:\n",
    "    return 0.0001"
   ]
  },
  {
   "cell_type": "code",
   "execution_count": 32,
   "id": "6cBdWLtGjShP",
   "metadata": {
    "id": "6cBdWLtGjShP"
   },
   "outputs": [],
   "source": [
    "pw_lr_c = keras.callbacks.LearningRateScheduler(pw_lr)"
   ]
  },
  {
   "cell_type": "code",
   "execution_count": 33,
   "id": "RzUy_MoQjaiW",
   "metadata": {
    "id": "RzUy_MoQjaiW"
   },
   "outputs": [],
   "source": [
    "model = keras.models.Sequential([\n",
    "    keras.layers.Flatten(input_shape=[28, 28]),\n",
    "    keras.layers.BatchNormalization(),\n",
    "    keras.layers.Dense(100, kernel_initializer=init_1, use_bias=False),\n",
    "    keras.layers.BatchNormalization(),\n",
    "    keras.layers.Activation(\"elu\"),\n",
    "    keras.layers.Dense(75, use_bias=False),\n",
    "    keras.layers.BatchNormalization(),\n",
    "    keras.layers.LeakyReLU(alpha=0.3),\n",
    "    keras.layers.Dense(10, activation=\"softmax\")\n",
    "])"
   ]
  },
  {
   "cell_type": "code",
   "execution_count": 34,
   "id": "8-qSIRZhjeoV",
   "metadata": {
    "id": "8-qSIRZhjeoV"
   },
   "outputs": [],
   "source": [
    "model.compile(loss=\"sparse_categorical_crossentropy\",\n",
    "              optimizer=\"sgd\",\n",
    "              metrics=[\"accuracy\"])"
   ]
  },
  {
   "cell_type": "code",
   "execution_count": 35,
   "id": "rbawjM8BjjTj",
   "metadata": {
    "colab": {
     "base_uri": "https://localhost:8080/"
    },
    "id": "rbawjM8BjjTj",
    "outputId": "1533dde4-3db4-4080-80ab-8d83c09c8c8d"
   },
   "outputs": [
    {
     "name": "stdout",
     "output_type": "stream",
     "text": [
      "Epoch 1/50\n",
      "1594/1594 [==============================] - 7s 4ms/step - loss: 0.6630 - accuracy: 0.7770 - val_loss: 0.4888 - val_accuracy: 0.8259 - lr: 0.0100\n",
      "Epoch 2/50\n",
      "1594/1594 [==============================] - 5s 3ms/step - loss: 0.4866 - accuracy: 0.8311 - val_loss: 0.4362 - val_accuracy: 0.8428 - lr: 0.0100\n",
      "Epoch 3/50\n",
      "1594/1594 [==============================] - 5s 3ms/step - loss: 0.4478 - accuracy: 0.8439 - val_loss: 0.4162 - val_accuracy: 0.8509 - lr: 0.0100\n",
      "Epoch 4/50\n",
      "1594/1594 [==============================] - 6s 4ms/step - loss: 0.4253 - accuracy: 0.8501 - val_loss: 0.4007 - val_accuracy: 0.8587 - lr: 0.0100\n",
      "Epoch 5/50\n",
      "1594/1594 [==============================] - 6s 4ms/step - loss: 0.4040 - accuracy: 0.8575 - val_loss: 0.3852 - val_accuracy: 0.8618 - lr: 0.0100\n",
      "Epoch 6/50\n",
      "1594/1594 [==============================] - 6s 4ms/step - loss: 0.3940 - accuracy: 0.8601 - val_loss: 0.3793 - val_accuracy: 0.8656 - lr: 0.0100\n",
      "Epoch 7/50\n",
      "1594/1594 [==============================] - 6s 4ms/step - loss: 0.3802 - accuracy: 0.8631 - val_loss: 0.3704 - val_accuracy: 0.8670 - lr: 0.0100\n",
      "Epoch 8/50\n",
      "1594/1594 [==============================] - 7s 4ms/step - loss: 0.3710 - accuracy: 0.8679 - val_loss: 0.3629 - val_accuracy: 0.8701 - lr: 0.0100\n",
      "Epoch 9/50\n",
      "1594/1594 [==============================] - 6s 4ms/step - loss: 0.3627 - accuracy: 0.8702 - val_loss: 0.3597 - val_accuracy: 0.8719 - lr: 0.0100\n",
      "Epoch 10/50\n",
      "1594/1594 [==============================] - 6s 4ms/step - loss: 0.3496 - accuracy: 0.8739 - val_loss: 0.3634 - val_accuracy: 0.8691 - lr: 0.0100\n",
      "Epoch 11/50\n",
      "1594/1594 [==============================] - 6s 4ms/step - loss: 0.3406 - accuracy: 0.8790 - val_loss: 0.3499 - val_accuracy: 0.8747 - lr: 0.0050\n",
      "Epoch 12/50\n",
      "1594/1594 [==============================] - 6s 4ms/step - loss: 0.3365 - accuracy: 0.8801 - val_loss: 0.3486 - val_accuracy: 0.8754 - lr: 0.0050\n",
      "Epoch 13/50\n",
      "1594/1594 [==============================] - 6s 4ms/step - loss: 0.3314 - accuracy: 0.8804 - val_loss: 0.3460 - val_accuracy: 0.8764 - lr: 0.0050\n",
      "Epoch 14/50\n",
      "1594/1594 [==============================] - 6s 4ms/step - loss: 0.3265 - accuracy: 0.8816 - val_loss: 0.3434 - val_accuracy: 0.8758 - lr: 0.0050\n",
      "Epoch 15/50\n",
      "1594/1594 [==============================] - 6s 4ms/step - loss: 0.3241 - accuracy: 0.8824 - val_loss: 0.3518 - val_accuracy: 0.8751 - lr: 0.0050\n",
      "Epoch 16/50\n",
      "1594/1594 [==============================] - 6s 4ms/step - loss: 0.3204 - accuracy: 0.8843 - val_loss: 0.3418 - val_accuracy: 0.8771 - lr: 0.0050\n",
      "Epoch 17/50\n",
      "1594/1594 [==============================] - 6s 4ms/step - loss: 0.3159 - accuracy: 0.8864 - val_loss: 0.3401 - val_accuracy: 0.8783 - lr: 0.0050\n",
      "Epoch 18/50\n",
      "1594/1594 [==============================] - 6s 4ms/step - loss: 0.3132 - accuracy: 0.8869 - val_loss: 0.3389 - val_accuracy: 0.8806 - lr: 0.0050\n",
      "Epoch 19/50\n",
      "1594/1594 [==============================] - 6s 4ms/step - loss: 0.3112 - accuracy: 0.8874 - val_loss: 0.3389 - val_accuracy: 0.8803 - lr: 0.0050\n",
      "Epoch 20/50\n",
      "1594/1594 [==============================] - 7s 4ms/step - loss: 0.3068 - accuracy: 0.8908 - val_loss: 0.3358 - val_accuracy: 0.8794 - lr: 0.0050\n",
      "Epoch 21/50\n",
      "1594/1594 [==============================] - 7s 4ms/step - loss: 0.3027 - accuracy: 0.8910 - val_loss: 0.3341 - val_accuracy: 0.8814 - lr: 0.0010\n",
      "Epoch 22/50\n",
      "1594/1594 [==============================] - 6s 4ms/step - loss: 0.3002 - accuracy: 0.8912 - val_loss: 0.3335 - val_accuracy: 0.8823 - lr: 0.0010\n",
      "Epoch 23/50\n",
      "1594/1594 [==============================] - 7s 4ms/step - loss: 0.2991 - accuracy: 0.8919 - val_loss: 0.3344 - val_accuracy: 0.8809 - lr: 0.0010\n",
      "Epoch 24/50\n",
      "1594/1594 [==============================] - 6s 4ms/step - loss: 0.2962 - accuracy: 0.8942 - val_loss: 0.3342 - val_accuracy: 0.8822 - lr: 0.0010\n",
      "Epoch 25/50\n",
      "1594/1594 [==============================] - 6s 4ms/step - loss: 0.2959 - accuracy: 0.8933 - val_loss: 0.3330 - val_accuracy: 0.8830 - lr: 0.0010\n",
      "Epoch 26/50\n",
      "1594/1594 [==============================] - 6s 4ms/step - loss: 0.2939 - accuracy: 0.8944 - val_loss: 0.3352 - val_accuracy: 0.8820 - lr: 0.0010\n",
      "Epoch 27/50\n",
      "1594/1594 [==============================] - 6s 4ms/step - loss: 0.2954 - accuracy: 0.8945 - val_loss: 0.3330 - val_accuracy: 0.8832 - lr: 0.0010\n",
      "Epoch 28/50\n",
      "1594/1594 [==============================] - 7s 4ms/step - loss: 0.2933 - accuracy: 0.8961 - val_loss: 0.3335 - val_accuracy: 0.8811 - lr: 0.0010\n",
      "Epoch 29/50\n",
      "1594/1594 [==============================] - 6s 4ms/step - loss: 0.2916 - accuracy: 0.8954 - val_loss: 0.3324 - val_accuracy: 0.8830 - lr: 0.0010\n",
      "Epoch 30/50\n",
      "1594/1594 [==============================] - 6s 4ms/step - loss: 0.2925 - accuracy: 0.8949 - val_loss: 0.3329 - val_accuracy: 0.8834 - lr: 0.0010\n",
      "Epoch 31/50\n",
      "1594/1594 [==============================] - 8s 5ms/step - loss: 0.2933 - accuracy: 0.8943 - val_loss: 0.3323 - val_accuracy: 0.8828 - lr: 0.0010\n",
      "Epoch 32/50\n",
      "1594/1594 [==============================] - 7s 5ms/step - loss: 0.2928 - accuracy: 0.8942 - val_loss: 0.3323 - val_accuracy: 0.8826 - lr: 0.0010\n",
      "Epoch 33/50\n",
      "1594/1594 [==============================] - 7s 5ms/step - loss: 0.2909 - accuracy: 0.8939 - val_loss: 0.3329 - val_accuracy: 0.8824 - lr: 0.0010\n",
      "Epoch 34/50\n",
      "1594/1594 [==============================] - 7s 4ms/step - loss: 0.2911 - accuracy: 0.8950 - val_loss: 0.3319 - val_accuracy: 0.8830 - lr: 0.0010\n",
      "Epoch 35/50\n",
      "1594/1594 [==============================] - 8s 5ms/step - loss: 0.2900 - accuracy: 0.8956 - val_loss: 0.3325 - val_accuracy: 0.8818 - lr: 0.0010\n",
      "Epoch 36/50\n",
      "1594/1594 [==============================] - 8s 5ms/step - loss: 0.2878 - accuracy: 0.8952 - val_loss: 0.3305 - val_accuracy: 0.8831 - lr: 0.0010\n",
      "Epoch 37/50\n",
      "1594/1594 [==============================] - 7s 4ms/step - loss: 0.2886 - accuracy: 0.8970 - val_loss: 0.3315 - val_accuracy: 0.8841 - lr: 0.0010\n",
      "Epoch 38/50\n",
      "1594/1594 [==============================] - 7s 4ms/step - loss: 0.2858 - accuracy: 0.8976 - val_loss: 0.3310 - val_accuracy: 0.8842 - lr: 0.0010\n",
      "Epoch 39/50\n",
      "1594/1594 [==============================] - 6s 4ms/step - loss: 0.2879 - accuracy: 0.8958 - val_loss: 0.3315 - val_accuracy: 0.8833 - lr: 0.0010\n",
      "Epoch 40/50\n",
      "1594/1594 [==============================] - 6s 4ms/step - loss: 0.2868 - accuracy: 0.8953 - val_loss: 0.3307 - val_accuracy: 0.8832 - lr: 0.0010\n",
      "Epoch 41/50\n",
      "1594/1594 [==============================] - 6s 4ms/step - loss: 0.2842 - accuracy: 0.8968 - val_loss: 0.3306 - val_accuracy: 0.8837 - lr: 1.0000e-04\n",
      "Epoch 42/50\n",
      "1594/1594 [==============================] - 6s 4ms/step - loss: 0.2832 - accuracy: 0.8980 - val_loss: 0.3310 - val_accuracy: 0.8838 - lr: 1.0000e-04\n",
      "Epoch 43/50\n",
      "1594/1594 [==============================] - 6s 4ms/step - loss: 0.2835 - accuracy: 0.8975 - val_loss: 0.3307 - val_accuracy: 0.8844 - lr: 1.0000e-04\n",
      "Epoch 44/50\n",
      "1594/1594 [==============================] - 7s 4ms/step - loss: 0.2839 - accuracy: 0.8981 - val_loss: 0.3307 - val_accuracy: 0.8839 - lr: 1.0000e-04\n",
      "Epoch 45/50\n",
      "1594/1594 [==============================] - 6s 4ms/step - loss: 0.2849 - accuracy: 0.8972 - val_loss: 0.3307 - val_accuracy: 0.8840 - lr: 1.0000e-04\n",
      "Epoch 46/50\n",
      "1594/1594 [==============================] - 6s 4ms/step - loss: 0.2841 - accuracy: 0.8971 - val_loss: 0.3299 - val_accuracy: 0.8840 - lr: 1.0000e-04\n",
      "Epoch 47/50\n",
      "1594/1594 [==============================] - 6s 4ms/step - loss: 0.2842 - accuracy: 0.8972 - val_loss: 0.3309 - val_accuracy: 0.8830 - lr: 1.0000e-04\n",
      "Epoch 48/50\n",
      "1594/1594 [==============================] - 6s 4ms/step - loss: 0.2839 - accuracy: 0.8974 - val_loss: 0.3303 - val_accuracy: 0.8832 - lr: 1.0000e-04\n",
      "Epoch 49/50\n",
      "1594/1594 [==============================] - 6s 4ms/step - loss: 0.2850 - accuracy: 0.8956 - val_loss: 0.3304 - val_accuracy: 0.8836 - lr: 1.0000e-04\n",
      "Epoch 50/50\n",
      "1594/1594 [==============================] - 6s 4ms/step - loss: 0.2830 - accuracy: 0.8975 - val_loss: 0.3308 - val_accuracy: 0.8829 - lr: 1.0000e-04\n"
     ]
    }
   ],
   "source": [
    "history_pw = model.fit(x_train, y_train, epochs=50,\n",
    "                    validation_split=0.15,\n",
    "                    callbacks=[pw_lr_c])"
   ]
  },
  {
   "cell_type": "code",
   "execution_count": 44,
   "id": "ebYnOPU2oOTG",
   "metadata": {
    "colab": {
     "base_uri": "https://localhost:8080/",
     "height": 358
    },
    "id": "ebYnOPU2oOTG",
    "outputId": "8ffa230d-f02a-448d-ae1f-06437b2fd0eb"
   },
   "outputs": [
    {
     "data": {
      "text/plain": [
       "<matplotlib.legend.Legend at 0xee3e68d430>"
      ]
     },
     "execution_count": 44,
     "metadata": {},
     "output_type": "execute_result"
    },
    {
     "data": {
      "image/png": "[encoded data removed]",
      "text/plain": [
       "<Figure size 1200x500 with 1 Axes>"
      ]
     },
     "metadata": {},
     "output_type": "display_data"
    }
   ],
   "source": [
    "fig, ax = plt.subplots(figsize=(12, 5))\n",
    "ax.plot(history_pw.history[\"loss\"], label=\"train loss\")\n",
    "ax.plot(history_pw.history[\"accuracy\"], label=\"train accuracy\")\n",
    "ax.plot(history_pw.history[\"val_loss\"], label=\"validation loss\")\n",
    "ax.plot(history_pw.history[\"val_accuracy\"], label=\"validation accuracy\")\n",
    "ax.legend()"
   ]
  },
  {
   "cell_type": "code",
   "execution_count": 45,
   "id": "6yioRqTJocTt",
   "metadata": {
    "colab": {
     "base_uri": "https://localhost:8080/",
     "height": 303
    },
    "id": "6yioRqTJocTt",
    "outputId": "b4866455-52a8-45fa-f33f-dc93e3c5ba7e"
   },
   "outputs": [
    {
     "data": {
      "text/plain": [
       "[<matplotlib.lines.Line2D at 0xee3e5a29a0>]"
      ]
     },
     "execution_count": 45,
     "metadata": {},
     "output_type": "execute_result"
    },
    {
     "data": {
      "image/png": "[encoded data removed]",
      "text/plain": [
       "<Figure size 640x480 with 1 Axes>"
      ]
     },
     "metadata": {},
     "output_type": "display_data"
    }
   ],
   "source": [
    "plt.plot(history_pw.epoch, history_pw.history[\"lr\"])"
   ]
  },
  {
   "cell_type": "markdown",
   "id": "8EkLskQRoj_s",
   "metadata": {
    "id": "8EkLskQRoj_s"
   },
   "source": [
    "## Performance"
   ]
  },
  {
   "cell_type": "code",
   "execution_count": 46,
   "id": "ID8c8D6vonB4",
   "metadata": {
    "id": "ID8c8D6vonB4"
   },
   "outputs": [],
   "source": [
    "per_lr_c = tf.keras.callbacks.ReduceLROnPlateau(\n",
    "    monitor='val_loss', factor=0.1, patience=10)"
   ]
  },
  {
   "cell_type": "code",
   "execution_count": 47,
   "id": "mn1tE7-mpN2D",
   "metadata": {
    "id": "mn1tE7-mpN2D"
   },
   "outputs": [],
   "source": [
    "model = keras.models.Sequential([\n",
    "    keras.layers.Flatten(input_shape=[28, 28]),\n",
    "    keras.layers.BatchNormalization(),\n",
    "    keras.layers.Dense(100, kernel_initializer=init_1, use_bias=False),\n",
    "    keras.layers.BatchNormalization(),\n",
    "    keras.layers.Activation(\"elu\"),\n",
    "    keras.layers.Dense(75, use_bias=False),\n",
    "    keras.layers.BatchNormalization(),\n",
    "    keras.layers.LeakyReLU(alpha=0.3),\n",
    "    keras.layers.Dense(10, activation=\"softmax\")\n",
    "])"
   ]
  },
  {
   "cell_type": "code",
   "execution_count": 48,
   "id": "Lyw3oGrSpTha",
   "metadata": {
    "id": "Lyw3oGrSpTha"
   },
   "outputs": [],
   "source": [
    "model.compile(loss=\"sparse_categorical_crossentropy\",\n",
    "              optimizer=\"sgd\",\n",
    "              metrics=[\"accuracy\"])"
   ]
  },
  {
   "cell_type": "code",
   "execution_count": 49,
   "id": "6_--Xu0WpWeE",
   "metadata": {
    "colab": {
     "base_uri": "https://localhost:8080/"
    },
    "id": "6_--Xu0WpWeE",
    "outputId": "3fb42959-3f75-497a-8545-4141761e3b89",
    "scrolled": true
   },
   "outputs": [
    {
     "name": "stdout",
     "output_type": "stream",
     "text": [
      "Epoch 1/50\n",
      "1594/1594 [==============================] - 6s 3ms/step - loss: 0.6774 - accuracy: 0.7729 - val_loss: 0.4854 - val_accuracy: 0.8292 - lr: 0.0100\n",
      "Epoch 2/50\n",
      "1594/1594 [==============================] - 5s 3ms/step - loss: 0.4911 - accuracy: 0.8294 - val_loss: 0.4316 - val_accuracy: 0.8490 - lr: 0.0100\n",
      "Epoch 3/50\n",
      "1594/1594 [==============================] - 5s 3ms/step - loss: 0.4504 - accuracy: 0.8423 - val_loss: 0.4141 - val_accuracy: 0.8522 - lr: 0.0100\n",
      "Epoch 4/50\n",
      "1594/1594 [==============================] - 6s 4ms/step - loss: 0.4246 - accuracy: 0.8510 - val_loss: 0.3944 - val_accuracy: 0.8608 - lr: 0.0100\n",
      "Epoch 5/50\n",
      "1594/1594 [==============================] - 5s 3ms/step - loss: 0.4069 - accuracy: 0.8553 - val_loss: 0.3859 - val_accuracy: 0.8650 - lr: 0.0100\n",
      "Epoch 6/50\n",
      "1594/1594 [==============================] - 5s 3ms/step - loss: 0.3924 - accuracy: 0.8611 - val_loss: 0.3735 - val_accuracy: 0.8691 - lr: 0.0100\n",
      "Epoch 7/50\n",
      "1594/1594 [==============================] - 6s 4ms/step - loss: 0.3779 - accuracy: 0.8645 - val_loss: 0.3807 - val_accuracy: 0.8654 - lr: 0.0100\n",
      "Epoch 8/50\n",
      "1594/1594 [==============================] - 5s 3ms/step - loss: 0.3705 - accuracy: 0.8688 - val_loss: 0.3702 - val_accuracy: 0.8672 - lr: 0.0100\n",
      "Epoch 9/50\n",
      "1594/1594 [==============================] - 5s 3ms/step - loss: 0.3570 - accuracy: 0.8728 - val_loss: 0.3575 - val_accuracy: 0.8731 - lr: 0.0100\n",
      "Epoch 10/50\n",
      "1594/1594 [==============================] - 5s 3ms/step - loss: 0.3501 - accuracy: 0.8749 - val_loss: 0.3531 - val_accuracy: 0.8766 - lr: 0.0100\n",
      "Epoch 11/50\n",
      "1594/1594 [==============================] - 6s 4ms/step - loss: 0.3404 - accuracy: 0.8787 - val_loss: 0.3475 - val_accuracy: 0.8764 - lr: 0.0100\n",
      "Epoch 12/50\n",
      "1594/1594 [==============================] - 6s 4ms/step - loss: 0.3350 - accuracy: 0.8805 - val_loss: 0.3437 - val_accuracy: 0.8774 - lr: 0.0100\n",
      "Epoch 13/50\n",
      "1594/1594 [==============================] - 6s 3ms/step - loss: 0.3285 - accuracy: 0.8822 - val_loss: 0.3487 - val_accuracy: 0.8764 - lr: 0.0100\n",
      "Epoch 14/50\n",
      "1594/1594 [==============================] - 6s 4ms/step - loss: 0.3212 - accuracy: 0.8836 - val_loss: 0.3415 - val_accuracy: 0.8776 - lr: 0.0100\n",
      "Epoch 15/50\n",
      "1594/1594 [==============================] - 6s 4ms/step - loss: 0.3174 - accuracy: 0.8852 - val_loss: 0.3418 - val_accuracy: 0.8761 - lr: 0.0100\n",
      "Epoch 16/50\n",
      "1594/1594 [==============================] - 6s 4ms/step - loss: 0.3106 - accuracy: 0.8888 - val_loss: 0.3379 - val_accuracy: 0.8809 - lr: 0.0100\n",
      "Epoch 17/50\n",
      "1594/1594 [==============================] - 6s 4ms/step - loss: 0.3045 - accuracy: 0.8896 - val_loss: 0.3348 - val_accuracy: 0.8816 - lr: 0.0100\n",
      "Epoch 18/50\n",
      "1594/1594 [==============================] - 6s 4ms/step - loss: 0.3005 - accuracy: 0.8908 - val_loss: 0.3342 - val_accuracy: 0.8803 - lr: 0.0100\n",
      "Epoch 19/50\n",
      "1594/1594 [==============================] - 6s 4ms/step - loss: 0.2962 - accuracy: 0.8929 - val_loss: 0.3328 - val_accuracy: 0.8793 - lr: 0.0100\n",
      "Epoch 20/50\n",
      "1594/1594 [==============================] - 6s 4ms/step - loss: 0.2913 - accuracy: 0.8943 - val_loss: 0.3261 - val_accuracy: 0.8836 - lr: 0.0100\n",
      "Epoch 21/50\n",
      "1594/1594 [==============================] - 6s 4ms/step - loss: 0.2877 - accuracy: 0.8953 - val_loss: 0.3263 - val_accuracy: 0.8836 - lr: 0.0100\n",
      "Epoch 22/50\n",
      "1594/1594 [==============================] - 6s 4ms/step - loss: 0.2821 - accuracy: 0.8990 - val_loss: 0.3352 - val_accuracy: 0.8793 - lr: 0.0100\n",
      "Epoch 23/50\n",
      "1594/1594 [==============================] - 6s 4ms/step - loss: 0.2780 - accuracy: 0.8995 - val_loss: 0.3241 - val_accuracy: 0.8870 - lr: 0.0100\n",
      "Epoch 24/50\n",
      "1594/1594 [==============================] - 6s 4ms/step - loss: 0.2730 - accuracy: 0.9012 - val_loss: 0.3217 - val_accuracy: 0.8887 - lr: 0.0100\n",
      "Epoch 25/50\n",
      "1594/1594 [==============================] - 6s 4ms/step - loss: 0.2698 - accuracy: 0.9025 - val_loss: 0.3293 - val_accuracy: 0.8846 - lr: 0.0100\n",
      "Epoch 26/50\n",
      "1594/1594 [==============================] - 6s 4ms/step - loss: 0.2671 - accuracy: 0.9021 - val_loss: 0.3305 - val_accuracy: 0.8817 - lr: 0.0100\n",
      "Epoch 27/50\n",
      "1594/1594 [==============================] - 6s 4ms/step - loss: 0.2617 - accuracy: 0.9050 - val_loss: 0.3298 - val_accuracy: 0.8830 - lr: 0.0100\n",
      "Epoch 28/50\n",
      "1594/1594 [==============================] - 7s 4ms/step - loss: 0.2597 - accuracy: 0.9065 - val_loss: 0.3288 - val_accuracy: 0.8841 - lr: 0.0100\n",
      "Epoch 29/50\n",
      "1594/1594 [==============================] - 6s 4ms/step - loss: 0.2555 - accuracy: 0.9084 - val_loss: 0.3319 - val_accuracy: 0.8844 - lr: 0.0100\n",
      "Epoch 30/50\n",
      "1594/1594 [==============================] - 6s 4ms/step - loss: 0.2522 - accuracy: 0.9079 - val_loss: 0.3346 - val_accuracy: 0.8837 - lr: 0.0100\n",
      "Epoch 31/50\n",
      "1594/1594 [==============================] - 6s 4ms/step - loss: 0.2530 - accuracy: 0.9081 - val_loss: 0.3254 - val_accuracy: 0.8874 - lr: 0.0100\n",
      "Epoch 32/50\n",
      "1594/1594 [==============================] - 7s 4ms/step - loss: 0.2482 - accuracy: 0.9100 - val_loss: 0.3266 - val_accuracy: 0.8838 - lr: 0.0100\n",
      "Epoch 33/50\n",
      "1594/1594 [==============================] - 7s 4ms/step - loss: 0.2446 - accuracy: 0.9111 - val_loss: 0.3225 - val_accuracy: 0.8873 - lr: 0.0100\n",
      "Epoch 34/50\n",
      "1594/1594 [==============================] - 7s 4ms/step - loss: 0.2404 - accuracy: 0.9134 - val_loss: 0.3350 - val_accuracy: 0.8836 - lr: 0.0100\n",
      "Epoch 35/50\n",
      "1594/1594 [==============================] - 7s 4ms/step - loss: 0.2240 - accuracy: 0.9203 - val_loss: 0.3178 - val_accuracy: 0.8880 - lr: 1.0000e-03\n",
      "Epoch 36/50\n",
      "1594/1594 [==============================] - 7s 4ms/step - loss: 0.2198 - accuracy: 0.9218 - val_loss: 0.3188 - val_accuracy: 0.8881 - lr: 1.0000e-03\n",
      "Epoch 37/50\n",
      "1594/1594 [==============================] - 7s 5ms/step - loss: 0.2209 - accuracy: 0.9205 - val_loss: 0.3174 - val_accuracy: 0.8886 - lr: 1.0000e-03\n",
      "Epoch 38/50\n",
      "1594/1594 [==============================] - 7s 4ms/step - loss: 0.2199 - accuracy: 0.9212 - val_loss: 0.3186 - val_accuracy: 0.8887 - lr: 1.0000e-03\n",
      "Epoch 39/50\n",
      "1594/1594 [==============================] - 7s 4ms/step - loss: 0.2176 - accuracy: 0.9217 - val_loss: 0.3183 - val_accuracy: 0.8898 - lr: 1.0000e-03\n",
      "Epoch 40/50\n",
      "1594/1594 [==============================] - 7s 4ms/step - loss: 0.2183 - accuracy: 0.9211 - val_loss: 0.3182 - val_accuracy: 0.8887 - lr: 1.0000e-03\n",
      "Epoch 41/50\n",
      "1594/1594 [==============================] - 7s 4ms/step - loss: 0.2159 - accuracy: 0.9225 - val_loss: 0.3173 - val_accuracy: 0.8894 - lr: 1.0000e-03\n",
      "Epoch 42/50\n",
      "1594/1594 [==============================] - 7s 4ms/step - loss: 0.2184 - accuracy: 0.9215 - val_loss: 0.3183 - val_accuracy: 0.8878 - lr: 1.0000e-03\n",
      "Epoch 43/50\n",
      "1594/1594 [==============================] - 7s 4ms/step - loss: 0.2161 - accuracy: 0.9226 - val_loss: 0.3209 - val_accuracy: 0.8872 - lr: 1.0000e-03\n",
      "Epoch 44/50\n",
      "1594/1594 [==============================] - 7s 4ms/step - loss: 0.2157 - accuracy: 0.9225 - val_loss: 0.3196 - val_accuracy: 0.8879 - lr: 1.0000e-03\n",
      "Epoch 45/50\n",
      "1594/1594 [==============================] - 7s 4ms/step - loss: 0.2162 - accuracy: 0.9223 - val_loss: 0.3191 - val_accuracy: 0.8896 - lr: 1.0000e-03\n",
      "Epoch 46/50\n",
      "1594/1594 [==============================] - 7s 4ms/step - loss: 0.2161 - accuracy: 0.9220 - val_loss: 0.3212 - val_accuracy: 0.8888 - lr: 1.0000e-03\n",
      "Epoch 47/50\n",
      "1594/1594 [==============================] - 6s 4ms/step - loss: 0.2170 - accuracy: 0.9206 - val_loss: 0.3205 - val_accuracy: 0.8866 - lr: 1.0000e-03\n",
      "Epoch 48/50\n",
      "1594/1594 [==============================] - 6s 4ms/step - loss: 0.2134 - accuracy: 0.9234 - val_loss: 0.3202 - val_accuracy: 0.8872 - lr: 1.0000e-04\n",
      "Epoch 49/50\n",
      "1594/1594 [==============================] - 7s 4ms/step - loss: 0.2118 - accuracy: 0.9242 - val_loss: 0.3192 - val_accuracy: 0.8871 - lr: 1.0000e-04\n",
      "Epoch 50/50\n",
      "1594/1594 [==============================] - 7s 4ms/step - loss: 0.2148 - accuracy: 0.9232 - val_loss: 0.3186 - val_accuracy: 0.8870 - lr: 1.0000e-04\n"
     ]
    }
   ],
   "source": [
    "history_per = model.fit(x_train, y_train, epochs=50,\n",
    "                    validation_split=0.15,\n",
    "                    callbacks=[per_lr_c])"
   ]
  },
  {
   "cell_type": "code",
   "execution_count": 50,
   "id": "jawAEuYXqWkf",
   "metadata": {
    "colab": {
     "base_uri": "https://localhost:8080/",
     "height": 358
    },
    "id": "jawAEuYXqWkf",
    "outputId": "865b1afe-de91-4906-d778-1a6ad1b821d2"
   },
   "outputs": [
    {
     "data": {
      "text/plain": [
       "<matplotlib.legend.Legend at 0xee405a6610>"
      ]
     },
     "execution_count": 50,
     "metadata": {},
     "output_type": "execute_result"
    },
    {
     "data": {
      "image/png": "[encoded data removed]",
      "text/plain": [
       "<Figure size 1200x500 with 1 Axes>"
      ]
     },
     "metadata": {},
     "output_type": "display_data"
    }
   ],
   "source": [
    "fig, ax = plt.subplots(figsize=(12, 5))\n",
    "ax.plot(history_per.history[\"loss\"], label=\"train loss\")\n",
    "ax.plot(history_per.history[\"accuracy\"], label=\"train accuracy\")\n",
    "ax.plot(history_per.history[\"val_loss\"], label=\"validation loss\")\n",
    "ax.plot(history_per.history[\"val_accuracy\"], label=\"validation accuracy\")\n",
    "ax.legend()"
   ]
  },
  {
   "cell_type": "code",
   "execution_count": 51,
   "id": "4ZjbCFy-qgD0",
   "metadata": {
    "colab": {
     "base_uri": "https://localhost:8080/",
     "height": 303
    },
    "id": "4ZjbCFy-qgD0",
    "outputId": "e0bf2f89-dae6-4a44-b54d-62f6ecaf4ea8"
   },
   "outputs": [
    {
     "data": {
      "text/plain": [
       "[<matplotlib.lines.Line2D at 0xee4064a5e0>]"
      ]
     },
     "execution_count": 51,
     "metadata": {},
     "output_type": "execute_result"
    },
    {
     "data": {
      "image/png": "[encoded data removed]",
      "text/plain": [
       "<Figure size 640x480 with 1 Axes>"
      ]
     },
     "metadata": {},
     "output_type": "display_data"
    }
   ],
   "source": [
    "plt.plot(history_per.epoch, history_per.history[\"lr\"])"
   ]
  },
  {
   "cell_type": "code",
   "execution_count": 52,
   "id": "3tBfbB2kn84I",
   "metadata": {
    "colab": {
     "base_uri": "https://localhost:8080/"
    },
    "id": "3tBfbB2kn84I",
    "outputId": "71528d75-0bb5-4157-b302-38566af18b88"
   },
   "outputs": [
    {
     "data": {
      "text/plain": [
       "0.3173445761203766"
      ]
     },
     "execution_count": 52,
     "metadata": {},
     "output_type": "execute_result"
    }
   ],
   "source": [
    "min(history_per.history[\"val_loss\"])"
   ]
  },
  {
   "cell_type": "markdown",
   "id": "m8cMhrW6wtk4",
   "metadata": {
    "id": "m8cMhrW6wtk4"
   },
   "source": [
    "## 1cycle lr"
   ]
  },
  {
   "cell_type": "code",
   "execution_count": 53,
   "id": "REtWLVQa_pqr",
   "metadata": {
    "id": "REtWLVQa_pqr"
   },
   "outputs": [],
   "source": [
    "class Exp_lr(keras.callbacks.Callback):    # the previous code for exponetials were on \"epochs\" but this one is on \"batches\".\n",
    "  def __init__(self, factor):              # this factor will be used to reduce the learning rate after each batch.\n",
    "    self.factor = factor\n",
    "    self.lr = []\n",
    "    self.loss = []\n",
    "  \n",
    "  def on_epoch_begin(self, epoch, logs):\n",
    "    self.previous_loss = 0                                                # at the begining of the epoch, loss is zero.\n",
    "  \n",
    "  def on_batch_end(self, batch, logs):                                    # log is a dictionary which includes \"loss\" and etc\n",
    "    current_loss = logs[\"loss\"]*(batch+1) - self.previous_loss*batch      # since log['loss'] is accumulative mean of losses.\n",
    "    self.previous_loss = logs[\"loss\"]\n",
    "    self.lr.append(keras.backend.get_value(self.model.optimizer.learning_rate))\n",
    "    self.loss.append(current_loss)\n",
    "    keras.backend.set_value(self.model.optimizer.learning_rate,              # set the new learning rate\n",
    "                            self.model.optimizer.learning_rate*self.factor)"
   ]
  },
  {
   "cell_type": "code",
   "execution_count": 57,
   "id": "JG5DaRX2_pgH",
   "metadata": {
    "id": "JG5DaRX2_pgH"
   },
   "outputs": [],
   "source": [
    "def search_lr_loss(model, X, y, epochs=1, batch_size=32,\n",
    "                   min_lr = 1e-6, max_lr = 10):\n",
    "  model_weights = model.get_weights()                       # this is the initial weights since later we reset the rates.\n",
    "  iterations = int(X.shape[0]/batch_size)*epochs\n",
    "    \n",
    "  factor = np.exp(np.log(max_lr/min_lr)/iterations)  \n",
    "\n",
    "  initial_lr = keras.backend.get_value(model.optimizer.learning_rate)\n",
    "  keras.backend.set_value(model.optimizer.learning_rate, min_lr)       # we start with the minum lr\n",
    "  epx_lr = Exp_lr(factor)                                            # continue with increasing in lr by multiplying in \"factor\"\n",
    "    \n",
    "    \n",
    "  history = model.fit(X, y, epochs=epochs, batch_size=batch_size,\n",
    "                      callbacks=[epx_lr])\n",
    "  keras.backend.set_value(model.optimizer.learning_rate, initial_lr)\n",
    "    \n",
    "  model.set_weights(model_weights)     # this part shows loss function with different lrs but before that we reset the weights.\n",
    "  return epx_lr.lr, epx_lr.loss"
   ]
  },
  {
   "cell_type": "code",
   "execution_count": 58,
   "id": "aGqDk_0v_oyB",
   "metadata": {
    "id": "aGqDk_0v_oyB"
   },
   "outputs": [],
   "source": [
    "model = keras.models.Sequential([\n",
    "    keras.layers.Flatten(input_shape=[28, 28]),\n",
    "    keras.layers.BatchNormalization(),\n",
    "    keras.layers.Dense(100, kernel_initializer=init_1, use_bias=False),\n",
    "    keras.layers.BatchNormalization(),\n",
    "    keras.layers.Activation(\"elu\"),\n",
    "    keras.layers.Dense(75, use_bias=False),\n",
    "    keras.layers.BatchNormalization(),\n",
    "    keras.layers.LeakyReLU(alpha=0.3),\n",
    "    keras.layers.Dense(10, activation=\"softmax\")\n",
    "])"
   ]
  },
  {
   "cell_type": "code",
   "execution_count": 59,
   "id": "IE5FwRuv7LEK",
   "metadata": {
    "id": "IE5FwRuv7LEK"
   },
   "outputs": [],
   "source": [
    "model.compile(loss=\"sparse_categorical_crossentropy\",\n",
    "              optimizer=\"sgd\",\n",
    "              metrics=[\"accuracy\"])"
   ]
  },
  {
   "cell_type": "code",
   "execution_count": 60,
   "id": "yrnBImHaSFAx",
   "metadata": {
    "colab": {
     "base_uri": "https://localhost:8080/"
    },
    "id": "yrnBImHaSFAx",
    "outputId": "ff6e31a2-67f1-4bde-9579-c0ab787a8d06"
   },
   "outputs": [
    {
     "name": "stdout",
     "output_type": "stream",
     "text": [
      "1875/1875 [==============================] - 9s 4ms/step - loss: nan - accuracy: 0.4818           \n"
     ]
    }
   ],
   "source": [
    "lr, loss = search_lr_loss(model, x_train, y_train)"
   ]
  },
  {
   "cell_type": "code",
   "execution_count": 61,
   "id": "M8jIRXE9Se9a",
   "metadata": {
    "colab": {
     "base_uri": "https://localhost:8080/",
     "height": 311
    },
    "id": "M8jIRXE9Se9a",
    "outputId": "b0c584c5-ab45-40ce-fca9-52d8afb6460c"
   },
   "outputs": [
    {
     "data": {
      "text/plain": [
       "(0.0, 5.0)"
      ]
     },
     "execution_count": 61,
     "metadata": {},
     "output_type": "execute_result"
    },
    {
     "data": {
      "image/png": "[encoded data removed]",
      "text/plain": [
       "<Figure size 640x480 with 1 Axes>"
      ]
     },
     "metadata": {},
     "output_type": "display_data"
    }
   ],
   "source": [
    "plt.plot(lr, loss)\n",
    "plt.xscale(\"log\")\n",
    "plt.ylim(0, 5)"
   ]
  },
  {
   "cell_type": "code",
   "execution_count": 20,
   "id": "TW1dNi2lShKc",
   "metadata": {
    "id": "TW1dNi2lShKc"
   },
   "outputs": [],
   "source": [
    "class One_cycle_lr(keras.callbacks.Callback):\n",
    "  def __init__(self, iterations, max_lr, init_lr=None,\n",
    "               final_steps=None, final_lr=None):\n",
    "    self.iterations = iterations\n",
    "    self.max_lr = max_lr\n",
    "    self.init_lr = init_lr or max_lr / 10                       # if init_lr not determined its better to be set to 1/10 max_lr.\n",
    "    self.final_steps = final_steps or int(iterations/10)+1      # the last 1/10th of iterations\n",
    "    self.half_iterations = int((iterations - self.final_steps)/2)\n",
    "    self.final_lr = final_lr or self.init_lr/1000                     # init_lr/10000 is suggested for lr in final iteration\n",
    "    self.iteration = 0\n",
    "  \n",
    "  def interpolation(self, y2, y1, x2, x1):\n",
    "    return (y2 - y1)/(x2 - x1)*(self.iteration - x1) + y1   # x denotes the iteration no and y1 denotes the previous lr.\n",
    "                                                            # in summary (slope * moving on iteration) + previous lr. \n",
    "  \n",
    "  def on_batch_begin(self, batch, logs):                        # triangle of 1cycle\n",
    "    if self.iteration < self.half_iterations:\n",
    "      lr = self.interpolation(self.max_lr, self.init_lr,\n",
    "                              self.half_iterations, 0)\n",
    "    elif self.iteration < 2*self.half_iterations:\n",
    "      lr = self.interpolation(self.init_lr, self.max_lr,\n",
    "                              2*self.half_iterations, self.half_iterations)\n",
    "    else:\n",
    "      lr = self.interpolation(self.final_lr, self.init_lr,\n",
    "                              self.iterations, 2*self.half_iterations)\n",
    "    self.iteration += 1\n",
    "    keras.backend.set_value(self.model.optimizer.learning_rate, lr)"
   ]
  },
  {
   "cell_type": "code",
   "execution_count": 21,
   "id": "queZm6Px4fel",
   "metadata": {
    "id": "queZm6Px4fel"
   },
   "outputs": [
    {
     "name": "stderr",
     "output_type": "stream",
     "text": [
      "C:\\Users\\AbbasiLio\\anaconda3\\envs\\hossein\\lib\\site-packages\\keras\\initializers\\initializers_v2.py:120: UserWarning: The initializer VarianceScaling is unseeded and being called multiple times, which will return identical values  each time (even if the initializer is unseeded). Please update your code to provide a seed to the initializer, or avoid using the same initalizer instance more than once.\n",
      "  warnings.warn(\n"
     ]
    }
   ],
   "source": [
    "model = keras.models.Sequential([\n",
    "    keras.layers.Flatten(input_shape=[28, 28]),\n",
    "    keras.layers.BatchNormalization(),\n",
    "    keras.layers.Dense(100, kernel_initializer=init_1, use_bias=False),\n",
    "    keras.layers.BatchNormalization(),\n",
    "    keras.layers.Activation(\"elu\"),\n",
    "    keras.layers.Dense(75, use_bias=False),\n",
    "    keras.layers.BatchNormalization(),\n",
    "    keras.layers.LeakyReLU(alpha=0.3),\n",
    "    keras.layers.Dense(10, activation=\"softmax\")\n",
    "])"
   ]
  },
  {
   "cell_type": "code",
   "execution_count": 22,
   "id": "vQLj3AVm4rdg",
   "metadata": {
    "id": "vQLj3AVm4rdg"
   },
   "outputs": [],
   "source": [
    "model.compile(loss=\"sparse_categorical_crossentropy\",\n",
    "              optimizer=\"sgd\",\n",
    "              metrics=[\"accuracy\"])"
   ]
  },
  {
   "cell_type": "code",
   "execution_count": 23,
   "id": "OIc_tJjm8HH4",
   "metadata": {
    "colab": {
     "base_uri": "https://localhost:8080/"
    },
    "id": "OIc_tJjm8HH4",
    "outputId": "a4433b8e-8036-442d-93b5-4c7ad637884f"
   },
   "outputs": [
    {
     "name": "stdout",
     "output_type": "stream",
     "text": [
      "Epoch 1/50\n",
      "1594/1594 [==============================] - 8s 4ms/step - loss: 0.8813 - accuracy: 0.7170 - val_loss: 0.5951 - val_accuracy: 0.7968\n",
      "Epoch 2/50\n",
      "1594/1594 [==============================] - 6s 4ms/step - loss: 0.5711 - accuracy: 0.8076 - val_loss: 0.4974 - val_accuracy: 0.8282\n",
      "Epoch 3/50\n",
      "1594/1594 [==============================] - 6s 4ms/step - loss: 0.5051 - accuracy: 0.8246 - val_loss: 0.4560 - val_accuracy: 0.8389\n",
      "Epoch 4/50\n",
      "1594/1594 [==============================] - 6s 4ms/step - loss: 0.4674 - accuracy: 0.8358 - val_loss: 0.4325 - val_accuracy: 0.8473\n",
      "Epoch 5/50\n",
      "1594/1594 [==============================] - 6s 4ms/step - loss: 0.4416 - accuracy: 0.8446 - val_loss: 0.4148 - val_accuracy: 0.8540\n",
      "Epoch 6/50\n",
      "1594/1594 [==============================] - 7s 5ms/step - loss: 0.4236 - accuracy: 0.8508 - val_loss: 0.4000 - val_accuracy: 0.8579\n",
      "Epoch 7/50\n",
      "1594/1594 [==============================] - 7s 4ms/step - loss: 0.4088 - accuracy: 0.8546 - val_loss: 0.3906 - val_accuracy: 0.8606\n",
      "Epoch 8/50\n",
      "1594/1594 [==============================] - 7s 5ms/step - loss: 0.3911 - accuracy: 0.8617 - val_loss: 0.3806 - val_accuracy: 0.8619\n",
      "Epoch 9/50\n",
      "1594/1594 [==============================] - 7s 4ms/step - loss: 0.3777 - accuracy: 0.8651 - val_loss: 0.3704 - val_accuracy: 0.8683\n",
      "Epoch 10/50\n",
      "1594/1594 [==============================] - 7s 4ms/step - loss: 0.3692 - accuracy: 0.8679 - val_loss: 0.3640 - val_accuracy: 0.8690\n",
      "Epoch 11/50\n",
      "1594/1594 [==============================] - 7s 4ms/step - loss: 0.3557 - accuracy: 0.8724 - val_loss: 0.3589 - val_accuracy: 0.8691\n",
      "Epoch 12/50\n",
      "1594/1594 [==============================] - 6s 4ms/step - loss: 0.3461 - accuracy: 0.8760 - val_loss: 0.3560 - val_accuracy: 0.8728\n",
      "Epoch 13/50\n",
      "1594/1594 [==============================] - 6s 4ms/step - loss: 0.3392 - accuracy: 0.8780 - val_loss: 0.3479 - val_accuracy: 0.8743\n",
      "Epoch 14/50\n",
      "1594/1594 [==============================] - 6s 4ms/step - loss: 0.3288 - accuracy: 0.8807 - val_loss: 0.3436 - val_accuracy: 0.8754\n",
      "Epoch 15/50\n",
      "1594/1594 [==============================] - 7s 4ms/step - loss: 0.3204 - accuracy: 0.8849 - val_loss: 0.3515 - val_accuracy: 0.8733\n",
      "Epoch 16/50\n",
      "1594/1594 [==============================] - 7s 4ms/step - loss: 0.3149 - accuracy: 0.8856 - val_loss: 0.3436 - val_accuracy: 0.8789\n",
      "Epoch 17/50\n",
      "1594/1594 [==============================] - 7s 4ms/step - loss: 0.3075 - accuracy: 0.8894 - val_loss: 0.3392 - val_accuracy: 0.8794\n",
      "Epoch 18/50\n",
      "1594/1594 [==============================] - 7s 4ms/step - loss: 0.3004 - accuracy: 0.8910 - val_loss: 0.3374 - val_accuracy: 0.8831\n",
      "Epoch 19/50\n",
      "1594/1594 [==============================] - 7s 4ms/step - loss: 0.2954 - accuracy: 0.8925 - val_loss: 0.3382 - val_accuracy: 0.8816\n",
      "Epoch 20/50\n",
      "1594/1594 [==============================] - 7s 4ms/step - loss: 0.2908 - accuracy: 0.8931 - val_loss: 0.3559 - val_accuracy: 0.8766\n",
      "Epoch 21/50\n",
      "1594/1594 [==============================] - 7s 4ms/step - loss: 0.2849 - accuracy: 0.8952 - val_loss: 0.3553 - val_accuracy: 0.8749\n",
      "Epoch 22/50\n",
      "1594/1594 [==============================] - 7s 4ms/step - loss: 0.2830 - accuracy: 0.8964 - val_loss: 0.3328 - val_accuracy: 0.8822\n",
      "Epoch 23/50\n",
      "1594/1594 [==============================] - 7s 4ms/step - loss: 0.2757 - accuracy: 0.8986 - val_loss: 0.3487 - val_accuracy: 0.8760\n",
      "Epoch 24/50\n",
      "1594/1594 [==============================] - 7s 4ms/step - loss: 0.2747 - accuracy: 0.8992 - val_loss: 0.3209 - val_accuracy: 0.8872\n",
      "Epoch 25/50\n",
      "1594/1594 [==============================] - 7s 4ms/step - loss: 0.2635 - accuracy: 0.9031 - val_loss: 0.3261 - val_accuracy: 0.8857\n",
      "Epoch 26/50\n",
      "1594/1594 [==============================] - 7s 4ms/step - loss: 0.2612 - accuracy: 0.9041 - val_loss: 0.3589 - val_accuracy: 0.8789\n",
      "Epoch 27/50\n",
      "1594/1594 [==============================] - 7s 4ms/step - loss: 0.2555 - accuracy: 0.9051 - val_loss: 0.3264 - val_accuracy: 0.8859\n",
      "Epoch 28/50\n",
      "1594/1594 [==============================] - 7s 4ms/step - loss: 0.2502 - accuracy: 0.9089 - val_loss: 0.3356 - val_accuracy: 0.8870\n",
      "Epoch 29/50\n",
      "1594/1594 [==============================] - 7s 4ms/step - loss: 0.2431 - accuracy: 0.9110 - val_loss: 0.3374 - val_accuracy: 0.8847\n",
      "Epoch 30/50\n",
      "1594/1594 [==============================] - 7s 4ms/step - loss: 0.2386 - accuracy: 0.9115 - val_loss: 0.3301 - val_accuracy: 0.8893\n",
      "Epoch 31/50\n",
      "1594/1594 [==============================] - 7s 4ms/step - loss: 0.2326 - accuracy: 0.9149 - val_loss: 0.3371 - val_accuracy: 0.8828\n",
      "Epoch 32/50\n",
      "1594/1594 [==============================] - 7s 4ms/step - loss: 0.2274 - accuracy: 0.9166 - val_loss: 0.3410 - val_accuracy: 0.8859\n",
      "Epoch 33/50\n",
      "1594/1594 [==============================] - 7s 4ms/step - loss: 0.2199 - accuracy: 0.9165 - val_loss: 0.3315 - val_accuracy: 0.8868\n",
      "Epoch 34/50\n",
      "1594/1594 [==============================] - 7s 4ms/step - loss: 0.2182 - accuracy: 0.9189 - val_loss: 0.3389 - val_accuracy: 0.8849\n",
      "Epoch 35/50\n",
      "1594/1594 [==============================] - 7s 4ms/step - loss: 0.2121 - accuracy: 0.9222 - val_loss: 0.3635 - val_accuracy: 0.8766\n",
      "Epoch 36/50\n",
      "1594/1594 [==============================] - 7s 4ms/step - loss: 0.2074 - accuracy: 0.9231 - val_loss: 0.3266 - val_accuracy: 0.8899\n",
      "Epoch 37/50\n",
      "1594/1594 [==============================] - 7s 5ms/step - loss: 0.2023 - accuracy: 0.9246 - val_loss: 0.3280 - val_accuracy: 0.8920\n",
      "Epoch 38/50\n",
      "1594/1594 [==============================] - 7s 5ms/step - loss: 0.1992 - accuracy: 0.9269 - val_loss: 0.3307 - val_accuracy: 0.8910\n",
      "Epoch 39/50\n",
      "1594/1594 [==============================] - 7s 4ms/step - loss: 0.1942 - accuracy: 0.9287 - val_loss: 0.3390 - val_accuracy: 0.8894\n",
      "Epoch 40/50\n",
      "1594/1594 [==============================] - 7s 4ms/step - loss: 0.1910 - accuracy: 0.9290 - val_loss: 0.3366 - val_accuracy: 0.8903\n",
      "Epoch 41/50\n",
      "1594/1594 [==============================] - 7s 4ms/step - loss: 0.1882 - accuracy: 0.9301 - val_loss: 0.3338 - val_accuracy: 0.8897\n",
      "Epoch 42/50\n",
      "1594/1594 [==============================] - 7s 5ms/step - loss: 0.1836 - accuracy: 0.9325 - val_loss: 0.3395 - val_accuracy: 0.8899\n",
      "Epoch 43/50\n",
      "1594/1594 [==============================] - 7s 5ms/step - loss: 0.1788 - accuracy: 0.9346 - val_loss: 0.3360 - val_accuracy: 0.8920\n",
      "Epoch 44/50\n",
      "1594/1594 [==============================] - 7s 4ms/step - loss: 0.1751 - accuracy: 0.9359 - val_loss: 0.3428 - val_accuracy: 0.8916\n",
      "Epoch 45/50\n",
      "1594/1594 [==============================] - 7s 4ms/step - loss: 0.1717 - accuracy: 0.9372 - val_loss: 0.3365 - val_accuracy: 0.8934\n",
      "Epoch 46/50\n",
      "1594/1594 [==============================] - 7s 4ms/step - loss: 0.1690 - accuracy: 0.9385 - val_loss: 0.3490 - val_accuracy: 0.8883\n",
      "Epoch 47/50\n",
      "1594/1594 [==============================] - 7s 4ms/step - loss: 0.1676 - accuracy: 0.9384 - val_loss: 0.3441 - val_accuracy: 0.8900\n",
      "Epoch 48/50\n",
      "1594/1594 [==============================] - 7s 4ms/step - loss: 0.1640 - accuracy: 0.9402 - val_loss: 0.3404 - val_accuracy: 0.8919\n",
      "Epoch 49/50\n",
      "1594/1594 [==============================] - 7s 4ms/step - loss: 0.1602 - accuracy: 0.9416 - val_loss: 0.3422 - val_accuracy: 0.8888\n",
      "Epoch 50/50\n",
      "1594/1594 [==============================] - 7s 5ms/step - loss: 0.1548 - accuracy: 0.9448 - val_loss: 0.3439 - val_accuracy: 0.8941\n"
     ]
    }
   ],
   "source": [
    "epochs = 50\n",
    "batch_size = 32\n",
    "iters = int(x_train.shape[0]/batch_size)*epochs\n",
    "one_cycle_lr = One_cycle_lr(iters, max_lr=0.03)\n",
    "history_onecycle = model.fit(x_train, y_train,\n",
    "                             validation_split=0.15,\n",
    "                             epochs=epochs,\n",
    "                             callbacks=[one_cycle_lr])"
   ]
  },
  {
   "cell_type": "code",
   "execution_count": 24,
   "id": "SP1TOdebAkdK",
   "metadata": {
    "colab": {
     "base_uri": "https://localhost:8080/",
     "height": 358
    },
    "id": "SP1TOdebAkdK",
    "outputId": "6be4e6a4-bd4d-4770-a300-e53a386ba85b"
   },
   "outputs": [
    {
     "data": {
      "text/plain": [
       "<matplotlib.legend.Legend at 0xcfa1d58d60>"
      ]
     },
     "execution_count": 24,
     "metadata": {},
     "output_type": "execute_result"
    },
    {
     "data": {
      "image/png": "[encoded data removed]",
      "text/plain": [
       "<Figure size 1200x500 with 1 Axes>"
      ]
     },
     "metadata": {},
     "output_type": "display_data"
    }
   ],
   "source": [
    "fig, ax = plt.subplots(figsize=(12, 5))\n",
    "ax.plot(history_onecycle.history[\"loss\"], label=\"train loss\")\n",
    "ax.plot(history_onecycle.history[\"accuracy\"], label=\"train accuracy\")\n",
    "ax.plot(history_onecycle.history[\"val_loss\"], label=\"validation loss\")\n",
    "ax.plot(history_onecycle.history[\"val_accuracy\"], label=\"validation accuracy\")\n",
    "ax.legend()"
   ]
  },
  {
   "cell_type": "markdown",
   "id": "ft1Ds4gqJHAL",
   "metadata": {
    "id": "ft1Ds4gqJHAL"
   },
   "source": [
    "# Save"
   ]
  },
  {
   "cell_type": "code",
   "execution_count": null,
   "id": "KPJGnP-PTjjc",
   "metadata": {
    "id": "KPJGnP-PTjjc"
   },
   "outputs": [],
   "source": [
    "model.save(\"model0.h5\")"
   ]
  },
  {
   "cell_type": "code",
   "execution_count": null,
   "id": "aqUHfbrxJ059",
   "metadata": {
    "id": "aqUHfbrxJ059"
   },
   "outputs": [],
   "source": [
    "model0 = keras.models.load_model(\"model0.h5\")"
   ]
  },
  {
   "cell_type": "code",
   "execution_count": null,
   "id": "ifyWNkrWMcKs",
   "metadata": {
    "colab": {
     "base_uri": "https://localhost:8080/"
    },
    "id": "ifyWNkrWMcKs",
    "outputId": "71dc7f2a-6da7-4f01-8ce8-1f2a0d84b82d"
   },
   "outputs": [
    {
     "data": {
      "text/plain": [
       "array([[-0.06704623, -0.11174253, -0.00563421, ..., -0.02029336,\n",
       "         0.01927974,  0.146645  ],\n",
       "       [-0.0795177 ,  0.08650598,  0.09299318, ...,  0.03900306,\n",
       "         0.01614566, -0.09741197],\n",
       "       [ 0.05308377, -0.00142669,  0.02594119, ...,  0.08916065,\n",
       "        -0.0596556 , -0.03666259],\n",
       "       ...,\n",
       "       [-0.04310189, -0.04397746,  0.12586327, ...,  0.05857656,\n",
       "         0.15224995,  0.06473288],\n",
       "       [-0.02583297, -0.05026561,  0.08253539, ...,  0.02924732,\n",
       "         0.0960122 , -0.10992494],\n",
       "       [ 0.04974783,  0.0737893 , -0.08731119, ..., -0.12971976,\n",
       "         0.04082621, -0.13510756]], dtype=float32)"
      ]
     },
     "execution_count": 154,
     "metadata": {},
     "output_type": "execute_result"
    }
   ],
   "source": [
    "model0.get_weights()[4]"
   ]
  },
  {
   "cell_type": "code",
   "execution_count": null,
   "id": "AOnwYDUyOf1d",
   "metadata": {
    "colab": {
     "base_uri": "https://localhost:8080/"
    },
    "id": "AOnwYDUyOf1d",
    "outputId": "fe5db285-338d-450f-8806-2c3c66bae844"
   },
   "outputs": [
    {
     "data": {
      "text/plain": [
       "array([[-0.06704623, -0.11174253, -0.00563421, ..., -0.02029336,\n",
       "         0.01927974,  0.146645  ],\n",
       "       [-0.0795177 ,  0.08650598,  0.09299318, ...,  0.03900306,\n",
       "         0.01614566, -0.09741197],\n",
       "       [ 0.05308377, -0.00142669,  0.02594119, ...,  0.08916065,\n",
       "        -0.0596556 , -0.03666259],\n",
       "       ...,\n",
       "       [-0.04310189, -0.04397746,  0.12586327, ...,  0.05857656,\n",
       "         0.15224995,  0.06473288],\n",
       "       [-0.02583297, -0.05026561,  0.08253539, ...,  0.02924732,\n",
       "         0.0960122 , -0.10992494],\n",
       "       [ 0.04974783,  0.0737893 , -0.08731119, ..., -0.12971976,\n",
       "         0.04082621, -0.13510756]], dtype=float32)"
      ]
     },
     "execution_count": 153,
     "metadata": {},
     "output_type": "execute_result"
    }
   ],
   "source": [
    "model1.get_weights()[4]"
   ]
  },
  {
   "cell_type": "code",
   "execution_count": null,
   "id": "dt-tw4qjMVek",
   "metadata": {
    "id": "dt-tw4qjMVek"
   },
   "outputs": [],
   "source": [
    "model0_cloned = keras.models.clone_model(model0)\n",
    "model0_cloned.set_weights(model0.get_weights())"
   ]
  },
  {
   "cell_type": "code",
   "execution_count": null,
   "id": "UcZ0iTOPMlJe",
   "metadata": {
    "colab": {
     "base_uri": "https://localhost:8080/"
    },
    "id": "UcZ0iTOPMlJe",
    "outputId": "5adbf84c-7285-46dc-dbb5-14010088dad5"
   },
   "outputs": [
    {
     "data": {
      "text/plain": [
       "array([[-0.06704623, -0.11174253, -0.00563421, ..., -0.02029336,\n",
       "         0.01927974,  0.146645  ],\n",
       "       [-0.07952756,  0.0865082 ,  0.09298178, ...,  0.03900573,\n",
       "         0.01614139, -0.09744514],\n",
       "       [ 0.05307489, -0.00144449,  0.02591839, ...,  0.08911391,\n",
       "        -0.05962572, -0.03665954],\n",
       "       ...,\n",
       "       [-0.04281421, -0.04491483,  0.12648545, ...,  0.06454027,\n",
       "         0.15204246,  0.0652566 ],\n",
       "       [-0.02540588, -0.05094827,  0.08252302, ...,  0.03255223,\n",
       "         0.09608161, -0.11013214],\n",
       "       [ 0.04969933,  0.0737593 , -0.08726431, ..., -0.12961605,\n",
       "         0.04082294, -0.13520084]], dtype=float32)"
      ]
     },
     "execution_count": 155,
     "metadata": {},
     "output_type": "execute_result"
    }
   ],
   "source": [
    "model0_cloned.get_weights()[4]"
   ]
  },
  {
   "cell_type": "code",
   "execution_count": null,
   "id": "fs4rQbIbT9we",
   "metadata": {
    "colab": {
     "base_uri": "https://localhost:8080/"
    },
    "id": "fs4rQbIbT9we",
    "outputId": "28f22bdc-cf63-48a7-db96-ddbb0d0335ed"
   },
   "outputs": [
    {
     "name": "stdout",
     "output_type": "stream",
     "text": [
      "Model: \"sequential_5\"\n",
      "_________________________________________________________________\n",
      " Layer (type)                Output Shape              Param #   \n",
      "=================================================================\n",
      " flatten (Flatten)           (None, 784)               0         \n",
      "                                                                 \n",
      " batch_normalization (BatchN  (None, 784)              3136      \n",
      " ormalization)                                                   \n",
      "                                                                 \n",
      " dense (Dense)               (None, 100)               78400     \n",
      "                                                                 \n",
      " batch_normalization_1 (Batc  (None, 100)              400       \n",
      " hNormalization)                                                 \n",
      "                                                                 \n",
      " activation (Activation)     (None, 100)               0         \n",
      "                                                                 \n",
      " dense_1 (Dense)             (None, 75)                7500      \n",
      "                                                                 \n",
      " batch_normalization_2 (Batc  (None, 75)               300       \n",
      " hNormalization)                                                 \n",
      "                                                                 \n",
      " leaky_re_lu (LeakyReLU)     (None, 75)                0         \n",
      "                                                                 \n",
      " dense_7 (Dense)             (None, 1)                 76        \n",
      "                                                                 \n",
      "=================================================================\n",
      "Total params: 89,812\n",
      "Trainable params: 87,894\n",
      "Non-trainable params: 1,918\n",
      "_________________________________________________________________\n"
     ]
    }
   ],
   "source": [
    "model1 = keras.models.Sequential(model0.layers[:-1])\n",
    "model1.add(keras.layers.Dense(1, activation=\"sigmoid\"))\n",
    "model1.summary()"
   ]
  },
  {
   "cell_type": "code",
   "execution_count": null,
   "id": "dgViXWo7T_hB",
   "metadata": {
    "colab": {
     "base_uri": "https://localhost:8080/"
    },
    "id": "dgViXWo7T_hB",
    "outputId": "060de977-bd0e-4950-e8f7-3b1de7d83a5d"
   },
   "outputs": [
    {
     "name": "stdout",
     "output_type": "stream",
     "text": [
      "True\n",
      "True\n",
      "True\n",
      "True\n",
      "True\n",
      "True\n",
      "True\n",
      "True\n"
     ]
    }
   ],
   "source": [
    "for layer in model1.layers[:-1]:\n",
    "  layer.trainable = True\n",
    "  print(layer.trainable)"
   ]
  },
  {
   "cell_type": "code",
   "execution_count": null,
   "id": "hHxNxYyfU2zE",
   "metadata": {
    "colab": {
     "base_uri": "https://localhost:8080/"
    },
    "id": "hHxNxYyfU2zE",
    "outputId": "b9cfd23f-8de1-47de-85ae-388ef041f994"
   },
   "outputs": [
    {
     "name": "stdout",
     "output_type": "stream",
     "text": [
      "Model: \"sequential_5\"\n",
      "_________________________________________________________________\n",
      " Layer (type)                Output Shape              Param #   \n",
      "=================================================================\n",
      " flatten (Flatten)           (None, 784)               0         \n",
      "                                                                 \n",
      " batch_normalization (BatchN  (None, 784)              3136      \n",
      " ormalization)                                                   \n",
      "                                                                 \n",
      " dense (Dense)               (None, 100)               78400     \n",
      "                                                                 \n",
      " batch_normalization_1 (Batc  (None, 100)              400       \n",
      " hNormalization)                                                 \n",
      "                                                                 \n",
      " activation (Activation)     (None, 100)               0         \n",
      "                                                                 \n",
      " dense_1 (Dense)             (None, 75)                7500      \n",
      "                                                                 \n",
      " batch_normalization_2 (Batc  (None, 75)               300       \n",
      " hNormalization)                                                 \n",
      "                                                                 \n",
      " leaky_re_lu (LeakyReLU)     (None, 75)                0         \n",
      "                                                                 \n",
      " dense_7 (Dense)             (None, 1)                 76        \n",
      "                                                                 \n",
      "=================================================================\n",
      "Total params: 89,812\n",
      "Trainable params: 76\n",
      "Non-trainable params: 89,736\n",
      "_________________________________________________________________\n"
     ]
    }
   ],
   "source": [
    "model1.summary()"
   ]
  },
  {
   "cell_type": "code",
   "execution_count": null,
   "id": "K3_sA2jbIwUB",
   "metadata": {
    "id": "K3_sA2jbIwUB"
   },
   "outputs": [],
   "source": [
    "x_train_new = x_train[:5000, :, :]"
   ]
  },
  {
   "cell_type": "code",
   "execution_count": null,
   "id": "vbpxIgpONW9i",
   "metadata": {
    "id": "vbpxIgpONW9i"
   },
   "outputs": [],
   "source": [
    "y_train_new = np.where(y_train == 9, 1, 0)[:5000]"
   ]
  },
  {
   "cell_type": "code",
   "execution_count": null,
   "id": "CgTZqtJwNue7",
   "metadata": {
    "id": "CgTZqtJwNue7"
   },
   "outputs": [],
   "source": [
    "model1.compile(loss=\"binary_crossentropy\", optimizer=\"sgd\", metrics=[\"accuracy\"])"
   ]
  },
  {
   "cell_type": "code",
   "execution_count": null,
   "id": "xWwOeUJZOH9N",
   "metadata": {
    "colab": {
     "base_uri": "https://localhost:8080/"
    },
    "id": "xWwOeUJZOH9N",
    "outputId": "cf3ffd62-41e7-4bb2-80a9-f5cbb0d89e7d"
   },
   "outputs": [
    {
     "name": "stdout",
     "output_type": "stream",
     "text": [
      "Epoch 1/15\n",
      "133/133 [==============================] - 2s 6ms/step - loss: 0.1294 - accuracy: 0.9605 - val_loss: 0.1399 - val_accuracy: 0.9787\n",
      "Epoch 2/15\n",
      "133/133 [==============================] - 1s 4ms/step - loss: 0.0830 - accuracy: 0.9760 - val_loss: 0.0777 - val_accuracy: 0.9827\n",
      "Epoch 3/15\n",
      "133/133 [==============================] - 1s 5ms/step - loss: 0.0689 - accuracy: 0.9772 - val_loss: 0.0575 - val_accuracy: 0.9827\n",
      "Epoch 4/15\n",
      "133/133 [==============================] - 1s 4ms/step - loss: 0.0583 - accuracy: 0.9826 - val_loss: 0.0507 - val_accuracy: 0.9840\n",
      "Epoch 5/15\n",
      "133/133 [==============================] - 1s 4ms/step - loss: 0.0550 - accuracy: 0.9838 - val_loss: 0.0469 - val_accuracy: 0.9840\n",
      "Epoch 6/15\n",
      "133/133 [==============================] - 1s 4ms/step - loss: 0.0505 - accuracy: 0.9847 - val_loss: 0.0451 - val_accuracy: 0.9840\n",
      "Epoch 7/15\n",
      "133/133 [==============================] - 1s 4ms/step - loss: 0.0473 - accuracy: 0.9842 - val_loss: 0.0427 - val_accuracy: 0.9853\n",
      "Epoch 8/15\n",
      "133/133 [==============================] - 1s 5ms/step - loss: 0.0450 - accuracy: 0.9859 - val_loss: 0.0415 - val_accuracy: 0.9853\n",
      "Epoch 9/15\n",
      "133/133 [==============================] - 1s 4ms/step - loss: 0.0408 - accuracy: 0.9875 - val_loss: 0.0414 - val_accuracy: 0.9840\n",
      "Epoch 10/15\n",
      "133/133 [==============================] - 1s 4ms/step - loss: 0.0411 - accuracy: 0.9864 - val_loss: 0.0392 - val_accuracy: 0.9853\n",
      "Epoch 11/15\n",
      "133/133 [==============================] - 1s 4ms/step - loss: 0.0376 - accuracy: 0.9880 - val_loss: 0.0408 - val_accuracy: 0.9840\n",
      "Epoch 12/15\n",
      "133/133 [==============================] - 1s 4ms/step - loss: 0.0363 - accuracy: 0.9875 - val_loss: 0.0381 - val_accuracy: 0.9867\n",
      "Epoch 13/15\n",
      "133/133 [==============================] - 1s 5ms/step - loss: 0.0341 - accuracy: 0.9896 - val_loss: 0.0383 - val_accuracy: 0.9880\n",
      "Epoch 14/15\n",
      "133/133 [==============================] - 1s 4ms/step - loss: 0.0340 - accuracy: 0.9892 - val_loss: 0.0396 - val_accuracy: 0.9827\n",
      "Epoch 15/15\n",
      "133/133 [==============================] - 1s 5ms/step - loss: 0.0348 - accuracy: 0.9896 - val_loss: 0.0360 - val_accuracy: 0.9880\n"
     ]
    },
    {
     "data": {
      "text/plain": [
       "<keras.callbacks.History at 0x7f295ae40050>"
      ]
     },
     "execution_count": 152,
     "metadata": {},
     "output_type": "execute_result"
    }
   ],
   "source": [
    "model1.fit(x_train_new, y_train_new, epochs=15, validation_split=0.15)"
   ]
  },
  {
   "cell_type": "code",
   "execution_count": null,
   "id": "ptycSOfSUTro",
   "metadata": {
    "id": "ptycSOfSUTro"
   },
   "outputs": [],
   "source": []
  },
  {
   "cell_type": "markdown",
   "id": "WwMp87Y4ap2T",
   "metadata": {
    "id": "WwMp87Y4ap2T"
   },
   "source": [
    "# Optimizers"
   ]
  },
  {
   "cell_type": "code",
   "execution_count": 16,
   "id": "H50tnO2AchLn",
   "metadata": {
    "id": "H50tnO2AchLn"
   },
   "outputs": [],
   "source": [
    "def func(x):\n",
    "  return x**2\n",
    "\n",
    "def func_grad(x):\n",
    "  return 2*x"
   ]
  },
  {
   "cell_type": "code",
   "execution_count": 17,
   "id": "JVW24S8ictmt",
   "metadata": {
    "id": "JVW24S8ictmt"
   },
   "outputs": [],
   "source": [
    "def gradient_descent(lr, func_grad):\n",
    "  x = -10\n",
    "  x_values = [x]\n",
    "  for i in range(10):\n",
    "    x -= lr*func_grad(x)\n",
    "    x_values.append(x)\n",
    "  print(\"iteration 10, x: %s\"%x)\n",
    "  return x_values"
   ]
  },
  {
   "cell_type": "code",
   "execution_count": 18,
   "id": "vjqqbDyBdUfQ",
   "metadata": {
    "id": "vjqqbDyBdUfQ"
   },
   "outputs": [],
   "source": [
    "def search_path(x_vals, func):\n",
    "  x_line = np.arange(-15, 15, 0.01)\n",
    "  plt.plot(x_line, [func(x) for x in x_line])\n",
    "  plt.plot(x_vals, [func(x) for x in x_vals], \"ro-\")"
   ]
  },
  {
   "cell_type": "code",
   "execution_count": 19,
   "id": "zVlAx3oqeDLs",
   "metadata": {
    "colab": {
     "base_uri": "https://localhost:8080/",
     "height": 303
    },
    "id": "zVlAx3oqeDLs",
    "outputId": "15008a21-171e-48b7-be6b-394f4b47d727"
   },
   "outputs": [
    {
     "name": "stdout",
     "output_type": "stream",
     "text": [
      "iteration 10, x: -0.060466176000000066\n"
     ]
    },
    {
     "data": {
      "image/png": "[encoded data removed]",
      "text/plain": [
       "<Figure size 640x480 with 1 Axes>"
      ]
     },
     "metadata": {},
     "output_type": "display_data"
    }
   ],
   "source": [
    "x_values = gradient_descent(0.8, func_grad)\n",
    "search_path(x_values, func)"
   ]
  },
  {
   "cell_type": "code",
   "execution_count": 64,
   "id": "6-k4wLuleP7x",
   "metadata": {
    "id": "6-k4wLuleP7x"
   },
   "outputs": [],
   "source": [
    "def func(x1, x2):\n",
    "  return x1**2 + 2 * x2**2\n",
    "\n",
    "def func_grad(x1, x2):\n",
    "  return (2*x1, 4*x2)"
   ]
  },
  {
   "cell_type": "code",
   "execution_count": 226,
   "id": "RQC1Gp8OpLkH",
   "metadata": {
    "id": "RQC1Gp8OpLkH"
   },
   "outputs": [],
   "source": [
    "class Optimizers:\n",
    "  def __init__(self, lr_schedule):\n",
    "    self.lr_schedule = lr_schedule\n",
    "  \n",
    "  def lr(self, rate, t):\n",
    "    if self.lr_schedule == \"constant\":\n",
    "      return self.constant_lr(rate)\n",
    "    elif self.lr_schedule == \"power\":\n",
    "      return self.power_lr(rate, t)\n",
    "  \n",
    "  def constant_lr(self, rate):\n",
    "    return rate\n",
    "  \n",
    "  def power_lr(self, rate, t):\n",
    "    c = 1\n",
    "    s = 10\n",
    "#     print(rate/(1 + t/s)**c)\n",
    "    return rate/(1 + t/s)**c\n",
    "\n",
    "  def gradient_descent(self, x1, x2, t1, t2, func_grad, rate, t):\n",
    "    gr_x1, gr_x2 = func_grad(x1, x2)\n",
    "    return x1 - self.lr(rate, t)*gr_x1, x2 - self.lr(rate ,t)*gr_x2, 0, 0\n",
    "  \n",
    "  def stochastic_gradient_descent(self, x1, x2, t1, t2, func_grad, rate, t):\n",
    "    gr_x1, gr_x2 = func_grad(x1, x2)\n",
    "    gr_x1 += np.random.normal(0, 1)\n",
    "    gr_x2 += np.random.normal(0, 1)\n",
    "    return x1 - self.lr(rate,t)*gr_x1, x2 - self.lr(rate, t)*gr_x2, 0, 0\n",
    "  \n",
    "  def gradient_descent_with_momentum(self, x1, x2, v1, v2, func_grad, rate, t):\n",
    "    alpha = 0.9\n",
    "    gr_x1, gr_x2 = func_grad(x1, x2)\n",
    "    v1 = alpha*v1 - self.lr(rate, t)*gr_x1\n",
    "    v2 = alpha*v2 - self.lr(rate,t)*gr_x2\n",
    "    return x1 + v1, x2 + v2, v1, v2\n",
    "  \n",
    "  def nesterov_gradient_descent_with_momentum(self, x1, x2, v1, v2, func_grad, rate, t):\n",
    "    alpha=0.9\n",
    "    x1 += alpha*v1\n",
    "    x2 += alpha*v2\n",
    "    gr_x1, gr_x2 = func_grad(x1, x2)\n",
    "    v1 = alpha*v1 - self.lr(rate,t)*gr_x1\n",
    "    v2 = alpha*v2 - self.lr(rate,t)*gr_x2\n",
    "    return x1 + v1, x2 + v2, v1, v2\n",
    "\n",
    "  def ada_grad(self, x1, x2, r1, r2, func_grad, rate, t):\n",
    "    delta = 1e-7\n",
    "    gr_x1, gr_x2 = func_grad(x1, x2)\n",
    "    r1 += gr_x1**2\n",
    "    r2 += gr_x2**2\n",
    "    x1 -= self.lr(rate,t)/(delta + np.sqrt(r1))*gr_x1\n",
    "    x2 -= self.lr(rate, t)/(delta + np.sqrt(r2))*gr_x2\n",
    "    return x1, x2, r1, r2\n",
    "  \n",
    "  def rmsprop(self, x1, x2, r1, r2, func_grad, rate , t):\n",
    "    delta = 1e-7\n",
    "    rho = 0.9\n",
    "    gr_x1, gr_x2 = func_grad(x1, x2)\n",
    "    r1 = r1*rho + (1-rho)*gr_x1**2\n",
    "    r2 = r2*rho + (1-rho)*gr_x2**2\n",
    "    x1 -= self.lr(rate,t)/np.sqrt(delta+r1)*gr_x1\n",
    "    x2 -= self.lr(rate,t)/np.sqrt(delta+r2)*gr_x2\n",
    "    return x1, x2, r1, r2\n",
    "\n",
    "  def adam(self, x1, x2, s1, s2, r1, r2, func_grad, rate, t):\n",
    "    delta, rho1, rho2 = 1e-8, 0.9, 0.999\n",
    "    gr_x1, gr_x2 = func_grad(x1, x2)\n",
    "\n",
    "    s1 = rho1*s1 + (1-rho1)*gr_x1\n",
    "    s2 = rho1*s2 + (1-rho1)*gr_x2\n",
    "\n",
    "    r1 = rho2*r1 + (1-rho2)*gr_x1**2\n",
    "    r2 = rho2*r2 + (1-rho2)*gr_x2**2\n",
    "\n",
    "    shat1 = s1/(1-rho1**(t+1))\n",
    "    shat2 = s2/(1-rho1**(t+1))\n",
    "\n",
    "    rhat1 = r1/(1-rho2**(t+1))\n",
    "    rhat2 = r2/(1-rho2**(t+1))\n",
    "\n",
    "    x1 -= self.lr(rate,t)*shat1/(np.sqrt(rhat1)+delta)\n",
    "    x2 -= self.lr(rate,t)*shat2/(np.sqrt(rhat2)+delta)\n",
    "\n",
    "    return x1, x2, s1, s2, r1, r2"
   ]
  },
  {
   "cell_type": "code",
   "execution_count": 219,
   "id": "IY34pwUSq1c2",
   "metadata": {
    "id": "IY34pwUSq1c2"
   },
   "outputs": [],
   "source": [
    "def search(optimizer, func_grad, rate, iteration=20):\n",
    "  x1, x2, t1, t2 = -5, -2, 0, 0\n",
    "  x_iterations = [(x1, x2)]\n",
    "  for i in range(iteration):\n",
    "    x1, x2, t1, t2 = optimizer(x1, x2, t1, t2, func_grad, rate, i+1)\n",
    "    x_iterations.append((x1, x2))\n",
    "  print(\"epoch {}, x1:{}, x2:{}\".format(i+1, x1, x2))\n",
    "  return x_iterations"
   ]
  },
  {
   "cell_type": "code",
   "execution_count": 229,
   "id": "8HhFi-E7Uee7",
   "metadata": {
    "id": "8HhFi-E7Uee7"
   },
   "outputs": [],
   "source": [
    "def search_adam(optimizer_adam, func_grad, rate, iteration=20):\n",
    "  x1, x2, s1, s2, r1, r2 = -5, -2, 0, 0, 0, 0\n",
    "  x_iterations = [(x1, x2)]\n",
    "  for t in range(iteration):\n",
    "    x1, x2, s1, s2, r1, r2 = optimizer_adam(x1, x2, s1, s2, r1, r2,func_grad, rate, t+1)\n",
    "    x_iterations.append((x1, x2))\n",
    "  print(\"epoch {}, x1:{}, x2:{}\".format(t+1, x1, x2))\n",
    "  return x_iterations"
   ]
  },
  {
   "cell_type": "code",
   "execution_count": 221,
   "id": "Jel6E-3MyhwQ",
   "metadata": {
    "id": "Jel6E-3MyhwQ"
   },
   "outputs": [],
   "source": [
    "def search_path(func, x_iterations):\n",
    "  plt.plot(*zip(*x_iterations), \"-o\", color=\"r\")\n",
    "  x1, x2 = np.meshgrid(np.arange(-5.5, 5.5, 0.1), np.arange(-5.5, 5.5, 0.1))\n",
    "  plt.contourf(x1, x2, func(x1, x2))\n",
    "  plt.xlabel(\"x1\")\n",
    "  plt.ylabel(\"x2\")"
   ]
  },
  {
   "cell_type": "code",
   "execution_count": 222,
   "id": "EWVZkqJjT7Cl",
   "metadata": {
    "colab": {
     "base_uri": "https://localhost:8080/",
     "height": 317
    },
    "collapsed": true,
    "id": "EWVZkqJjT7Cl",
    "outputId": "fa30ba85-81a9-4b50-aea3-41ecdc9a1535"
   },
   "outputs": [
    {
     "name": "stdout",
     "output_type": "stream",
     "text": [
      "epoch 20, x1:-3.3380398587754727, x2:-0.8840048677588156\n"
     ]
    },
    {
     "data": {
      "image/png": "[encoded data removed]",
      "text/plain": [
       "<Figure size 640x480 with 1 Axes>"
      ]
     },
     "metadata": {},
     "output_type": "display_data"
    }
   ],
   "source": [
    "opt = Optimizers(\"constant\")\n",
    "search_path(func, search(opt.gradient_descent, func_grad,0.01))"
   ]
  },
  {
   "cell_type": "code",
   "execution_count": 196,
   "id": "KImJgrqocA-d",
   "metadata": {
    "colab": {
     "base_uri": "https://localhost:8080/",
     "height": 317
    },
    "collapsed": true,
    "id": "KImJgrqocA-d",
    "outputId": "18b1dd73-1e27-45a4-b6d5-62e4a158ac02"
   },
   "outputs": [
    {
     "name": "stdout",
     "output_type": "stream",
     "text": [
      "epoch 20, x1:-1.6641695802115608e-07, x2:0.0\n"
     ]
    },
    {
     "data": {
      "image/png": "[encoded data removed]",
      "text/plain": [
       "<Figure size 640x480 with 1 Axes>"
      ]
     },
     "metadata": {},
     "output_type": "display_data"
    }
   ],
   "source": [
    "opt = Optimizers(\"power\")\n",
    "search_path(func, search(opt.gradient_descent, func_grad, 0.5))"
   ]
  },
  {
   "cell_type": "code",
   "execution_count": 197,
   "id": "hR9a2FDbzsUa",
   "metadata": {
    "colab": {
     "base_uri": "https://localhost:8080/",
     "height": 317
    },
    "collapsed": true,
    "id": "hR9a2FDbzsUa",
    "outputId": "3790c14f-8261-4ed8-c32e-876531e3c34e"
   },
   "outputs": [
    {
     "name": "stdout",
     "output_type": "stream",
     "text": [
      "epoch 20, x1:-3.3463391253519577, x2:-0.8684120209579042\n"
     ]
    },
    {
     "data": {
      "image/png": "[encoded data removed]",
      "text/plain": [
       "<Figure size 640x480 with 1 Axes>"
      ]
     },
     "metadata": {},
     "output_type": "display_data"
    }
   ],
   "source": [
    "opt = Optimizers(\"constant\")\n",
    "search_path(func, search(opt.stochastic_gradient_descent, func_grad,0.01))"
   ]
  },
  {
   "cell_type": "code",
   "execution_count": 198,
   "id": "gMWsrjO1H1Ux",
   "metadata": {
    "colab": {
     "base_uri": "https://localhost:8080/",
     "height": 317
    },
    "collapsed": true,
    "id": "gMWsrjO1H1Ux",
    "outputId": "67059953-5e48-4158-f317-6ad78f86e5f2"
   },
   "outputs": [
    {
     "name": "stdout",
     "output_type": "stream",
     "text": [
      "epoch 20, x1:1.3779266705610334, x2:-0.5800871623873937\n"
     ]
    },
    {
     "data": {
      "image/png": "[encoded data removed]",
      "text/plain": [
       "<Figure size 640x480 with 1 Axes>"
      ]
     },
     "metadata": {},
     "output_type": "display_data"
    }
   ],
   "source": [
    "opt = Optimizers(\"constant\")\n",
    "search_path(func, search(opt.gradient_descent_with_momentum, func_grad, 0.02))"
   ]
  },
  {
   "cell_type": "code",
   "execution_count": 199,
   "id": "t-X1zRVuH66F",
   "metadata": {
    "colab": {
     "base_uri": "https://localhost:8080/",
     "height": 317
    },
    "collapsed": true,
    "id": "t-X1zRVuH66F",
    "outputId": "ce51fed3-8e71-4c8e-be63-5afd4a730127"
   },
   "outputs": [
    {
     "name": "stdout",
     "output_type": "stream",
     "text": [
      "epoch 20, x1:-1.1226000420540831, x2:0.00764917525261577\n"
     ]
    },
    {
     "data": {
      "image/png": "[encoded data removed]",
      "text/plain": [
       "<Figure size 640x480 with 1 Axes>"
      ]
     },
     "metadata": {},
     "output_type": "display_data"
    }
   ],
   "source": [
    "opt = Optimizers(\"constant\")\n",
    "search_path(func, search(opt.nesterov_gradient_descent_with_momentum, func_grad, 0.02))"
   ]
  },
  {
   "cell_type": "code",
   "execution_count": 200,
   "id": "YWgI48iBCDw8",
   "metadata": {
    "colab": {
     "base_uri": "https://localhost:8080/",
     "height": 317
    },
    "collapsed": true,
    "id": "YWgI48iBCDw8",
    "outputId": "fe38fc87-180c-4dc8-9a5f-9dbea5ef31ac"
   },
   "outputs": [
    {
     "name": "stdout",
     "output_type": "stream",
     "text": [
      "epoch 20, x1:-1.8828800844526354, x2:-0.05646173745279083\n"
     ]
    },
    {
     "data": {
      "image/png": "[encoded data removed]",
      "text/plain": [
       "<Figure size 640x480 with 1 Axes>"
      ]
     },
     "metadata": {},
     "output_type": "display_data"
    }
   ],
   "source": [
    "opt = Optimizers(\"constant\")\n",
    "search_path(func, search(opt.ada_grad, func_grad, 0.5))"
   ]
  },
  {
   "cell_type": "code",
   "execution_count": 201,
   "id": "B_6pEbhyEO_i",
   "metadata": {
    "colab": {
     "base_uri": "https://localhost:8080/",
     "height": 317
    },
    "collapsed": true,
    "id": "B_6pEbhyEO_i",
    "outputId": "3a03b473-63d0-4599-c37f-6327c3db2826"
   },
   "outputs": [
    {
     "name": "stdout",
     "output_type": "stream",
     "text": [
      "epoch 20, x1:-0.000343174646715899, x2:4.843326533006444e-13\n"
     ]
    },
    {
     "data": {
      "image/png": "[encoded data removed]",
      "text/plain": [
       "<Figure size 640x480 with 1 Axes>"
      ]
     },
     "metadata": {},
     "output_type": "display_data"
    }
   ],
   "source": [
    "opt = Optimizers(\"constant\")\n",
    "search_path(func, search(opt.rmsprop, func_grad, 0.5))"
   ]
  },
  {
   "cell_type": "code",
   "execution_count": 230,
   "id": "akVOmDhYSGGt",
   "metadata": {
    "colab": {
     "base_uri": "https://localhost:8080/",
     "height": 317
    },
    "id": "akVOmDhYSGGt",
    "outputId": "422ccb97-d549-4c4d-dd0b-f10644f91e04"
   },
   "outputs": [
    {
     "name": "stdout",
     "output_type": "stream",
     "text": [
      "epoch 20, x1:-0.017409969654134994, x2:0.3938558052912001\n"
     ]
    },
    {
     "data": {
      "image/png": "[encoded data removed]",
      "text/plain": [
       "<Figure size 640x480 with 1 Axes>"
      ]
     },
     "metadata": {},
     "output_type": "display_data"
    }
   ],
   "source": [
    "opt = Optimizers(\"constant\")\n",
    "search_path(func, search_adam(opt.adam, func_grad, 0.3))"
   ]
  },
  {
   "cell_type": "markdown",
   "id": "-_qKDWCFC1Z8",
   "metadata": {
    "id": "-_qKDWCFC1Z8"
   },
   "source": [
    "# Overfitting"
   ]
  },
  {
   "cell_type": "markdown",
   "id": "Ahz1EzOhDiMF",
   "metadata": {
    "id": "Ahz1EzOhDiMF"
   },
   "source": [
    "## L1 and L2"
   ]
  },
  {
   "cell_type": "code",
   "execution_count": 26,
   "id": "C6N1L0WVVMFk",
   "metadata": {
    "id": "C6N1L0WVVMFk"
   },
   "outputs": [],
   "source": [
    "model = keras.models.Sequential([\n",
    "    keras.layers.Flatten(input_shape=[28, 28]),\n",
    "    keras.layers.Dense(100, activation=\"elu\",\n",
    "                       kernel_initializer=\"he_normal\",\n",
    "                       kernel_regularizer=keras.regularizers.l2(0.01)),\n",
    "    keras.layers.Dense(100, activation=\"elu\",\n",
    "                       kernel_initializer=\"he_normal\"),\n",
    "    keras.layers.Dense(50, activation=\"elu\",\n",
    "                       kernel_initializer=\"he_normal\"),                       \n",
    "    keras.layers.Dense(10, activation=\"softmax\")\n",
    "])"
   ]
  },
  {
   "cell_type": "code",
   "execution_count": 27,
   "id": "Qa3bjhdbDFMV",
   "metadata": {
    "id": "Qa3bjhdbDFMV"
   },
   "outputs": [],
   "source": [
    "model.compile(loss=\"sparse_categorical_crossentropy\",\n",
    "              optimizer=\"sgd\",\n",
    "              metrics=[\"accuracy\"])"
   ]
  },
  {
   "cell_type": "markdown",
   "id": "kLgYXG1gJAGt",
   "metadata": {
    "id": "kLgYXG1gJAGt"
   },
   "source": [
    "## Dropout"
   ]
  },
  {
   "cell_type": "code",
   "execution_count": 18,
   "id": "T1u_CuHEDfj3",
   "metadata": {
    "id": "T1u_CuHEDfj3"
   },
   "outputs": [],
   "source": [
    "# note: if you are using \"Selu\" activation function, you should use \"alphadropout\". futher information in keras documantation.\n",
    "model = keras.models.Sequential([\n",
    "    keras.layers.Flatten(input_shape=[28, 28]),\n",
    "    keras.layers.Dropout(0.2),\n",
    "    keras.layers.Dense(100, activation=\"elu\",\n",
    "                       kernel_initializer=\"he_normal\",\n",
    "                       kernel_regularizer=keras.regularizers.l2(0.01)),\n",
    "    keras.layers.Dropout(0.2),\n",
    "    keras.layers.Dense(100, activation=\"elu\",\n",
    "                       kernel_initializer=\"he_normal\"),\n",
    "    keras.layers.Dropout(0.2),\n",
    "    keras.layers.Dense(50, activation=\"elu\",\n",
    "                       kernel_initializer=\"he_normal\"),\n",
    "    keras.layers.Dropout(0.2),                       \n",
    "    keras.layers.Dense(10, activation=\"softmax\")\n",
    "])"
   ]
  },
  {
   "cell_type": "code",
   "execution_count": 19,
   "id": "eNrH6DuYKiZd",
   "metadata": {
    "id": "eNrH6DuYKiZd"
   },
   "outputs": [],
   "source": [
    "model.compile(loss=\"sparse_categorical_crossentropy\",\n",
    "              optimizer=\"sgd\",\n",
    "              metrics=[\"accuracy\"])"
   ]
  },
  {
   "cell_type": "code",
   "execution_count": 20,
   "id": "kKeNipiRKwyt",
   "metadata": {
    "colab": {
     "base_uri": "https://localhost:8080/"
    },
    "id": "kKeNipiRKwyt",
    "outputId": "ad6c1f9b-3896-45b4-917c-301d6e3dbc0b"
   },
   "outputs": [
    {
     "name": "stdout",
     "output_type": "stream",
     "text": [
      "Epoch 1/20\n",
      "1594/1594 [==============================] - 7s 4ms/step - loss: 2.3469 - accuracy: 0.6832 - val_loss: 1.6014 - val_accuracy: 0.8037\n",
      "Epoch 2/20\n",
      "1594/1594 [==============================] - 6s 4ms/step - loss: 1.4137 - accuracy: 0.7789 - val_loss: 1.0707 - val_accuracy: 0.8212\n",
      "Epoch 3/20\n",
      "1594/1594 [==============================] - 6s 4ms/step - loss: 1.0114 - accuracy: 0.7951 - val_loss: 0.8259 - val_accuracy: 0.8227\n",
      "Epoch 4/20\n",
      "1594/1594 [==============================] - 6s 4ms/step - loss: 0.8042 - accuracy: 0.8040 - val_loss: 0.6773 - val_accuracy: 0.8206\n",
      "Epoch 5/20\n",
      "1594/1594 [==============================] - 6s 4ms/step - loss: 0.6987 - accuracy: 0.8061 - val_loss: 0.5776 - val_accuracy: 0.8398\n",
      "Epoch 6/20\n",
      "1594/1594 [==============================] - 6s 4ms/step - loss: 0.6422 - accuracy: 0.8075 - val_loss: 0.5667 - val_accuracy: 0.8247\n",
      "Epoch 7/20\n",
      "1594/1594 [==============================] - 6s 4ms/step - loss: 0.6100 - accuracy: 0.8108 - val_loss: 0.5307 - val_accuracy: 0.8293\n",
      "Epoch 8/20\n",
      "1594/1594 [==============================] - 7s 4ms/step - loss: 0.5898 - accuracy: 0.8116 - val_loss: 0.5282 - val_accuracy: 0.8311\n",
      "Epoch 9/20\n",
      "1594/1594 [==============================] - 6s 4ms/step - loss: 0.5829 - accuracy: 0.8123 - val_loss: 0.5065 - val_accuracy: 0.8377\n",
      "Epoch 10/20\n",
      "1594/1594 [==============================] - 7s 4ms/step - loss: 0.5803 - accuracy: 0.8113 - val_loss: 0.5021 - val_accuracy: 0.8424\n",
      "Epoch 11/20\n",
      "1594/1594 [==============================] - 8s 5ms/step - loss: 0.5725 - accuracy: 0.8139 - val_loss: 0.5109 - val_accuracy: 0.8306\n",
      "Epoch 12/20\n",
      "1594/1594 [==============================] - 7s 4ms/step - loss: 0.5689 - accuracy: 0.8150 - val_loss: 0.5077 - val_accuracy: 0.8340\n",
      "Epoch 13/20\n",
      "1594/1594 [==============================] - 6s 4ms/step - loss: 0.5654 - accuracy: 0.8162 - val_loss: 0.4860 - val_accuracy: 0.8447\n",
      "Epoch 14/20\n",
      "1594/1594 [==============================] - 6s 4ms/step - loss: 0.5633 - accuracy: 0.8155 - val_loss: 0.4975 - val_accuracy: 0.8343\n",
      "Epoch 15/20\n",
      "1594/1594 [==============================] - 6s 4ms/step - loss: 0.5618 - accuracy: 0.8157 - val_loss: 0.4890 - val_accuracy: 0.8436\n",
      "Epoch 16/20\n",
      "1594/1594 [==============================] - 6s 4ms/step - loss: 0.5612 - accuracy: 0.8175 - val_loss: 0.4918 - val_accuracy: 0.8441\n",
      "Epoch 17/20\n",
      "1594/1594 [==============================] - 6s 4ms/step - loss: 0.5629 - accuracy: 0.8177 - val_loss: 0.5012 - val_accuracy: 0.8331\n",
      "Epoch 18/20\n",
      "1594/1594 [==============================] - 6s 4ms/step - loss: 0.5584 - accuracy: 0.8172 - val_loss: 0.4969 - val_accuracy: 0.8384\n",
      "Epoch 19/20\n",
      "1594/1594 [==============================] - 6s 4ms/step - loss: 0.5581 - accuracy: 0.8179 - val_loss: 0.4771 - val_accuracy: 0.8432\n",
      "Epoch 20/20\n",
      "1594/1594 [==============================] - 6s 4ms/step - loss: 0.5562 - accuracy: 0.8177 - val_loss: 0.4849 - val_accuracy: 0.8417\n"
     ]
    }
   ],
   "source": [
    "history = model.fit(x_train, y_train, \n",
    "                    validation_split=0.15,\n",
    "                    epochs=20)"
   ]
  },
  {
   "cell_type": "code",
   "execution_count": 24,
   "id": "ubeYaDBEO1bc",
   "metadata": {
    "id": "ubeYaDBEO1bc"
   },
   "outputs": [],
   "source": [
    "model_mcd = np.stack([model(x_test, training=True) for _ in range(50)])"
   ]
  },
  {
   "cell_type": "code",
   "execution_count": 25,
   "id": "13355a6f",
   "metadata": {},
   "outputs": [
    {
     "data": {
      "text/plain": [
       "(50, 10000, 10)"
      ]
     },
     "execution_count": 25,
     "metadata": {},
     "output_type": "execute_result"
    }
   ],
   "source": [
    "# out of shape shows: we have 50 models, in each model we have 10000 samples which classified in 10 classes.\n",
    "model_mcd.shape"
   ]
  },
  {
   "cell_type": "code",
   "execution_count": 19,
   "id": "FmOdVBonPiYB",
   "metadata": {
    "colab": {
     "base_uri": "https://localhost:8080/"
    },
    "id": "FmOdVBonPiYB",
    "outputId": "c5a1f3c8-7076-4283-a0eb-b9911074bf59"
   },
   "outputs": [
    {
     "name": "stdout",
     "output_type": "stream",
     "text": [
      "1/1 [==============================] - 0s 30ms/step\n"
     ]
    },
    {
     "data": {
      "text/plain": [
       "array([[0.   , 0.   , 0.   , 0.   , 0.   , 0.091, 0.   , 0.355, 0.   ,\n",
       "        0.554]], dtype=float32)"
      ]
     },
     "execution_count": 19,
     "metadata": {},
     "output_type": "execute_result"
    }
   ],
   "source": [
    "# prediction with model including just dropouts.\n",
    "np.round(model.predict(x_test[:1]), 3)"
   ]
  },
  {
   "cell_type": "code",
   "execution_count": null,
   "id": "f7fbb80c",
   "metadata": {},
   "outputs": [],
   "source": []
  },
  {
   "cell_type": "code",
   "execution_count": 27,
   "id": "8e581963",
   "metadata": {
    "collapsed": true
   },
   "outputs": [
    {
     "data": {
      "text/plain": [
       "array([[[0.   , 0.   , 0.   , 0.   , 0.   , 0.011, 0.   , 0.179, 0.001,\n",
       "         0.808]],\n",
       "\n",
       "       [[0.   , 0.   , 0.   , 0.   , 0.   , 0.038, 0.   , 0.322, 0.   ,\n",
       "         0.64 ]],\n",
       "\n",
       "       [[0.   , 0.   , 0.   , 0.   , 0.   , 0.001, 0.   , 0.06 , 0.   ,\n",
       "         0.939]],\n",
       "\n",
       "       [[0.   , 0.   , 0.   , 0.   , 0.   , 0.002, 0.   , 0.154, 0.   ,\n",
       "         0.843]],\n",
       "\n",
       "       [[0.   , 0.   , 0.   , 0.   , 0.   , 0.055, 0.   , 0.185, 0.   ,\n",
       "         0.759]],\n",
       "\n",
       "       [[0.   , 0.   , 0.   , 0.   , 0.   , 0.097, 0.   , 0.211, 0.   ,\n",
       "         0.691]],\n",
       "\n",
       "       [[0.   , 0.   , 0.   , 0.   , 0.   , 0.069, 0.   , 0.331, 0.001,\n",
       "         0.597]],\n",
       "\n",
       "       [[0.   , 0.   , 0.   , 0.   , 0.   , 0.273, 0.   , 0.037, 0.   ,\n",
       "         0.69 ]],\n",
       "\n",
       "       [[0.   , 0.   , 0.   , 0.   , 0.   , 0.227, 0.   , 0.243, 0.   ,\n",
       "         0.53 ]],\n",
       "\n",
       "       [[0.   , 0.   , 0.   , 0.   , 0.   , 0.044, 0.   , 0.201, 0.   ,\n",
       "         0.754]],\n",
       "\n",
       "       [[0.   , 0.   , 0.   , 0.   , 0.   , 0.007, 0.   , 0.462, 0.   ,\n",
       "         0.53 ]],\n",
       "\n",
       "       [[0.   , 0.   , 0.   , 0.   , 0.   , 0.068, 0.   , 0.151, 0.013,\n",
       "         0.768]],\n",
       "\n",
       "       [[0.   , 0.   , 0.   , 0.   , 0.   , 0.21 , 0.   , 0.269, 0.001,\n",
       "         0.519]],\n",
       "\n",
       "       [[0.   , 0.   , 0.   , 0.   , 0.   , 0.003, 0.   , 0.018, 0.   ,\n",
       "         0.979]],\n",
       "\n",
       "       [[0.   , 0.001, 0.   , 0.   , 0.   , 0.037, 0.   , 0.441, 0.   ,\n",
       "         0.52 ]],\n",
       "\n",
       "       [[0.   , 0.   , 0.   , 0.   , 0.   , 0.018, 0.   , 0.099, 0.   ,\n",
       "         0.883]],\n",
       "\n",
       "       [[0.   , 0.   , 0.   , 0.   , 0.   , 0.029, 0.   , 0.136, 0.   ,\n",
       "         0.836]],\n",
       "\n",
       "       [[0.   , 0.   , 0.   , 0.   , 0.   , 0.393, 0.   , 0.156, 0.   ,\n",
       "         0.451]],\n",
       "\n",
       "       [[0.   , 0.   , 0.   , 0.   , 0.   , 0.037, 0.   , 0.064, 0.   ,\n",
       "         0.899]],\n",
       "\n",
       "       [[0.   , 0.   , 0.   , 0.   , 0.   , 0.077, 0.   , 0.376, 0.004,\n",
       "         0.542]],\n",
       "\n",
       "       [[0.   , 0.   , 0.   , 0.   , 0.   , 0.012, 0.   , 0.118, 0.   ,\n",
       "         0.87 ]],\n",
       "\n",
       "       [[0.   , 0.   , 0.   , 0.   , 0.   , 0.031, 0.   , 0.23 , 0.   ,\n",
       "         0.738]],\n",
       "\n",
       "       [[0.   , 0.   , 0.   , 0.   , 0.   , 0.031, 0.   , 0.313, 0.004,\n",
       "         0.652]],\n",
       "\n",
       "       [[0.   , 0.   , 0.   , 0.   , 0.   , 0.461, 0.   , 0.397, 0.003,\n",
       "         0.138]],\n",
       "\n",
       "       [[0.   , 0.   , 0.   , 0.   , 0.   , 0.019, 0.   , 0.065, 0.002,\n",
       "         0.913]],\n",
       "\n",
       "       [[0.   , 0.   , 0.   , 0.   , 0.   , 0.081, 0.   , 0.035, 0.   ,\n",
       "         0.884]],\n",
       "\n",
       "       [[0.   , 0.   , 0.   , 0.   , 0.   , 0.008, 0.   , 0.171, 0.   ,\n",
       "         0.821]],\n",
       "\n",
       "       [[0.001, 0.   , 0.   , 0.   , 0.001, 0.048, 0.002, 0.073, 0.018,\n",
       "         0.857]],\n",
       "\n",
       "       [[0.   , 0.   , 0.   , 0.   , 0.   , 0.051, 0.   , 0.177, 0.016,\n",
       "         0.755]],\n",
       "\n",
       "       [[0.   , 0.   , 0.   , 0.   , 0.   , 0.024, 0.   , 0.062, 0.   ,\n",
       "         0.914]],\n",
       "\n",
       "       [[0.   , 0.   , 0.   , 0.   , 0.   , 0.273, 0.   , 0.048, 0.   ,\n",
       "         0.679]],\n",
       "\n",
       "       [[0.   , 0.   , 0.   , 0.   , 0.   , 0.135, 0.   , 0.11 , 0.   ,\n",
       "         0.755]],\n",
       "\n",
       "       [[0.   , 0.   , 0.   , 0.   , 0.   , 0.013, 0.   , 0.262, 0.   ,\n",
       "         0.725]],\n",
       "\n",
       "       [[0.   , 0.   , 0.   , 0.   , 0.   , 0.141, 0.   , 0.723, 0.   ,\n",
       "         0.136]],\n",
       "\n",
       "       [[0.   , 0.   , 0.   , 0.   , 0.   , 0.155, 0.   , 0.129, 0.005,\n",
       "         0.711]],\n",
       "\n",
       "       [[0.   , 0.   , 0.   , 0.   , 0.   , 0.321, 0.   , 0.408, 0.   ,\n",
       "         0.27 ]],\n",
       "\n",
       "       [[0.   , 0.   , 0.   , 0.   , 0.   , 0.012, 0.   , 0.133, 0.   ,\n",
       "         0.855]],\n",
       "\n",
       "       [[0.   , 0.   , 0.   , 0.   , 0.001, 0.129, 0.001, 0.29 , 0.04 ,\n",
       "         0.537]],\n",
       "\n",
       "       [[0.   , 0.   , 0.   , 0.   , 0.   , 0.09 , 0.   , 0.075, 0.023,\n",
       "         0.812]],\n",
       "\n",
       "       [[0.   , 0.   , 0.   , 0.   , 0.   , 0.023, 0.   , 0.335, 0.   ,\n",
       "         0.641]],\n",
       "\n",
       "       [[0.   , 0.   , 0.   , 0.   , 0.   , 0.021, 0.   , 0.092, 0.   ,\n",
       "         0.887]],\n",
       "\n",
       "       [[0.   , 0.   , 0.   , 0.   , 0.   , 0.028, 0.   , 0.387, 0.001,\n",
       "         0.584]],\n",
       "\n",
       "       [[0.   , 0.   , 0.   , 0.   , 0.   , 0.005, 0.   , 0.151, 0.   ,\n",
       "         0.844]],\n",
       "\n",
       "       [[0.   , 0.   , 0.   , 0.   , 0.   , 0.005, 0.   , 0.091, 0.   ,\n",
       "         0.903]],\n",
       "\n",
       "       [[0.   , 0.   , 0.   , 0.   , 0.   , 0.091, 0.   , 0.261, 0.004,\n",
       "         0.643]],\n",
       "\n",
       "       [[0.   , 0.   , 0.   , 0.   , 0.   , 0.095, 0.   , 0.287, 0.   ,\n",
       "         0.618]],\n",
       "\n",
       "       [[0.   , 0.   , 0.   , 0.   , 0.   , 0.038, 0.   , 0.218, 0.001,\n",
       "         0.743]],\n",
       "\n",
       "       [[0.   , 0.   , 0.   , 0.   , 0.   , 0.051, 0.   , 0.451, 0.   ,\n",
       "         0.498]],\n",
       "\n",
       "       [[0.   , 0.   , 0.   , 0.   , 0.   , 0.047, 0.   , 0.119, 0.006,\n",
       "         0.829]],\n",
       "\n",
       "       [[0.   , 0.   , 0.   , 0.   , 0.   , 0.04 , 0.   , 0.125, 0.   ,\n",
       "         0.835]]], dtype=float32)"
      ]
     },
     "execution_count": 27,
     "metadata": {},
     "output_type": "execute_result"
    }
   ],
   "source": [
    "# in monte-carlo dropout we had 50 models with random dropouts. here all 50 model's prediction showed for the first sample of \n",
    "# test set.\n",
    "np.round(model_mcd[:, :1],3)"
   ]
  },
  {
   "cell_type": "code",
   "execution_count": 21,
   "id": "W5kKFk2lP7nI",
   "metadata": {
    "colab": {
     "base_uri": "https://localhost:8080/"
    },
    "id": "W5kKFk2lP7nI",
    "outputId": "6a1c3ce2-4079-4bab-eecb-55a5cb513142"
   },
   "outputs": [
    {
     "data": {
      "text/plain": [
       "array([[0.   , 0.   , 0.   , 0.   , 0.   , 0.142, 0.   , 0.39 , 0.002,\n",
       "        0.465]], dtype=float32)"
      ]
     },
     "execution_count": 21,
     "metadata": {},
     "output_type": "execute_result"
    }
   ],
   "source": [
    "# prediction with the mote-carlo dropout model.\n",
    "np.round(model_mcd.mean(axis=0)[:1], 3)"
   ]
  },
  {
   "cell_type": "code",
   "execution_count": 28,
   "id": "7GZqF3fvQTFP",
   "metadata": {
    "id": "7GZqF3fvQTFP"
   },
   "outputs": [],
   "source": [
    "class MonteCarloDropout(keras.layers.Dropout):      # we define this kind of MonteCarloDropout when we used batch normalization.\n",
    "  def call(self, inputs):                           # we make an object from this class,and substitute this with \n",
    "    return super().call(inputs, training=True)      # \"keras.layers.Dropout\" when we define the model. "
   ]
  },
  {
   "cell_type": "markdown",
   "id": "-Ju6mUnkBQQ2",
   "metadata": {
    "id": "-Ju6mUnkBQQ2"
   },
   "source": [
    "## Max-Norm"
   ]
  },
  {
   "cell_type": "code",
   "execution_count": 69,
   "id": "yt6Ysq-uSfqD",
   "metadata": {
    "id": "yt6Ysq-uSfqD"
   },
   "outputs": [],
   "source": [
    "model = keras.models.Sequential([\n",
    "    keras.layers.Flatten(input_shape=[28, 28]),\n",
    "    keras.layers.Dropout(0.2),\n",
    "    keras.layers.Dense(100, activation=\"elu\",\n",
    "                       kernel_initializer=\"he_normal\",\n",
    "                       kernel_regularizer=keras.regularizers.l2(0.01),\n",
    "                       kernel_constraint=keras.constraints.max_norm(1.0)),\n",
    "    keras.layers.Dropout(0.2),\n",
    "    keras.layers.Dense(100, activation=\"elu\",\n",
    "                       kernel_initializer=\"he_normal\"),\n",
    "    keras.layers.Dropout(0.2),\n",
    "    keras.layers.Dense(50, activation=\"elu\",\n",
    "                       kernel_initializer=\"he_normal\"),\n",
    "    keras.layers.Dropout(0.2),                       \n",
    "    keras.layers.Dense(10, activation=\"softmax\")\n",
    "])"
   ]
  },
  {
   "cell_type": "code",
   "execution_count": 70,
   "id": "8Z1AuyiXBvVn",
   "metadata": {
    "id": "8Z1AuyiXBvVn"
   },
   "outputs": [],
   "source": [
    "model.compile(loss=\"sparse_categorical_crossentropy\",\n",
    "              optimizer=\"sgd\",\n",
    "              metrics=[\"accuracy\"])"
   ]
  },
  {
   "cell_type": "code",
   "execution_count": null,
   "id": "AiqVUM_cB0C1",
   "metadata": {
    "id": "AiqVUM_cB0C1"
   },
   "outputs": [],
   "source": []
  }
 ],
 "metadata": {
  "colab": {
   "collapsed_sections": [],
   "name": "Ch03.ipynb",
   "provenance": []
  },
  "kernelspec": {
   "display_name": "Python 3 (ipykernel)",
   "language": "python",
   "name": "python3"
  },
  "language_info": {
   "codemirror_mode": {
    "name": "ipython",
    "version": 3
   },
   "file_extension": ".py",
   "mimetype": "text/x-python",
   "name": "python",
   "nbconvert_exporter": "python",
   "pygments_lexer": "ipython3",
   "version": "3.9.16"
  }
 },
 "nbformat": 4,
 "nbformat_minor": 5
}
